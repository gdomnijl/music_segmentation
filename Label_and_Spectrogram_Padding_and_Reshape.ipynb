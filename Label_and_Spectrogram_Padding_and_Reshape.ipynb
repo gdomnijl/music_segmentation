{
  "nbformat": 4,
  "nbformat_minor": 0,
  "metadata": {
    "colab": {
      "name": "Label and Spectrogram Padding and Reshape.ipynb",
      "version": "0.3.2",
      "provenance": [],
      "collapsed_sections": [
        "r0Ro_4Q8VxkE",
        "KoQ0ExlvVxka",
        "JPWh_4ZxVxk0",
        "ntDTVYj8VxmH"
      ],
      "toc_visible": true,
      "include_colab_link": true
    },
    "language_info": {
      "codemirror_mode": {
        "name": "ipython",
        "version": 3
      },
      "file_extension": ".py",
      "mimetype": "text/x-python",
      "name": "python",
      "nbconvert_exporter": "python",
      "pygments_lexer": "ipython3",
      "version": "3.7.1"
    },
    "kernelspec": {
      "display_name": "Python 3",
      "language": "python",
      "name": "python3"
    }
  },
  "cells": [
    {
      "cell_type": "markdown",
      "metadata": {
        "id": "view-in-github",
        "colab_type": "text"
      },
      "source": [
        "<a href=\"https://colab.research.google.com/github/gdomnijl/music_segmentation/blob/master/Label_and_Spectrogram_Padding_and_Reshape.ipynb\" target=\"_parent\"><img src=\"https://colab.research.google.com/assets/colab-badge.svg\" alt=\"Open In Colab\"/></a>"
      ]
    },
    {
      "cell_type": "markdown",
      "metadata": {
        "id": "mMDNA6wKVxhp",
        "colab_type": "text"
      },
      "source": [
        "### Test CNN-BiLSTM Model"
      ]
    },
    {
      "cell_type": "code",
      "metadata": {
        "id": "o3rNc67mWxa6",
        "colab_type": "code",
        "outputId": "856df857-4172-49c4-ded1-458feedc93e3",
        "colab": {
          "base_uri": "https://localhost:8080/",
          "height": 34
        }
      },
      "source": [
        "from google.colab import drive\n",
        "drive.mount('/content/gdrive')"
      ],
      "execution_count": 0,
      "outputs": [
        {
          "output_type": "stream",
          "text": [
            "Drive already mounted at /content/gdrive; to attempt to forcibly remount, call drive.mount(\"/content/gdrive\", force_remount=True).\n"
          ],
          "name": "stdout"
        }
      ]
    },
    {
      "cell_type": "code",
      "metadata": {
        "scrolled": true,
        "id": "A4IFpLo_Vxhr",
        "colab_type": "code",
        "colab": {}
      },
      "source": [
        "%reload_ext autoreload\n",
        "%autoreload 2\n",
        "from cnn_bilstm_model import *"
      ],
      "execution_count": 0,
      "outputs": []
    },
    {
      "cell_type": "code",
      "metadata": {
        "collapsed": true,
        "id": "n65OPKb8Vxhw",
        "colab_type": "code",
        "outputId": "ffe95737-4afc-43fa-c059-b43611929a36",
        "colab": {}
      },
      "source": [
        "tf.reset_default_graph()\n",
        "\n",
        "cnn_config = {'filter_config': {'filter_size': [4, 4],\n",
        "                                'num_filter': [5, 10],\n",
        "                                'pool_size': [2, 2],\n",
        "                                'pool_stride': [2, 2]\n",
        "                                },\n",
        "              'regularization': 0.01,\n",
        "              'cnn_dropout': 1.0,\n",
        "              'fc_regularization': 0.01}\n",
        "\n",
        "bilstm_config = {'input_dim': 64,\n",
        "                 'output_dims': [32, 16, num_classes],## 6 being the num_of_classes TODO: what could be a better choice of size \n",
        "                 'sequence_len': K,\n",
        "                 'lstm_dropout': 1.0} \n",
        "\n",
        "train_config = {'grad_clipping': False}\n",
        "model = CNN_biLSTM_Model(cnn_config, bilstm_config, train_config)\n",
        "model.build()\n",
        "\n",
        "N = 50\n",
        "T = 7\n",
        "C = 1\n",
        "H = 128\n",
        "W = 128\n",
        "X_train = np.random.rand(N, T, 1, H, W)\n",
        "y_train = np.random.randint(0, 6, size = (N, T))\n",
        "\n",
        "batch_size = 8\n",
        "epoch = 1\n",
        "\n",
        "\n",
        "model.train(X_train, y_train, epoch, batch_size)\n"
      ],
      "execution_count": 0,
      "outputs": [
        {
          "output_type": "stream",
          "text": [
            "##### Tensor(\"fc/Shape:0\", shape=(4,), dtype=int32)\n",
            "##### loss after reduce mean: Tensor(\"Mean:0\", shape=(), dtype=float32)\n",
            "num_batch  6\n",
            "Training loss at epoch 0 batch 0: 2.484909\n"
          ],
          "name": "stdout"
        },
        {
          "output_type": "error",
          "ename": "KeyboardInterrupt",
          "evalue": "",
          "traceback": [
            "\u001b[0;31m---------------------------------------------------------------------------\u001b[0m",
            "\u001b[0;31mKeyboardInterrupt\u001b[0m                         Traceback (most recent call last)",
            "\u001b[0;32m<ipython-input-55-2e62bb5d9971>\u001b[0m in \u001b[0;36m<module>\u001b[0;34m\u001b[0m\n\u001b[1;32m     31\u001b[0m \u001b[0;34m\u001b[0m\u001b[0m\n\u001b[1;32m     32\u001b[0m \u001b[0;34m\u001b[0m\u001b[0m\n\u001b[0;32m---> 33\u001b[0;31m \u001b[0mmodel\u001b[0m\u001b[0;34m.\u001b[0m\u001b[0mtrain\u001b[0m\u001b[0;34m(\u001b[0m\u001b[0mX_train\u001b[0m\u001b[0;34m,\u001b[0m \u001b[0my_train\u001b[0m\u001b[0;34m,\u001b[0m \u001b[0mepoch\u001b[0m\u001b[0;34m,\u001b[0m \u001b[0mbatch_size\u001b[0m\u001b[0;34m)\u001b[0m\u001b[0;34m\u001b[0m\u001b[0;34m\u001b[0m\u001b[0m\n\u001b[0m",
            "\u001b[0;32m~/Downloads/cs282proj/cnn_bilstm_model.py\u001b[0m in \u001b[0;36mtrain\u001b[0;34m(self, X_train, y_train, epochs, batch_size, learning_rate)\u001b[0m\n\u001b[1;32m    173\u001b[0m \t\t\t\t\t}\n\u001b[1;32m    174\u001b[0m \u001b[0;34m\u001b[0m\u001b[0m\n\u001b[0;32m--> 175\u001b[0;31m                                         \u001b[0m_\u001b[0m\u001b[0;34m,\u001b[0m \u001b[0mloss_train\u001b[0m \u001b[0;34m=\u001b[0m\u001b[0msess\u001b[0m\u001b[0;34m.\u001b[0m\u001b[0mrun\u001b[0m\u001b[0;34m(\u001b[0m\u001b[0;34m[\u001b[0m\u001b[0mself\u001b[0m\u001b[0;34m.\u001b[0m\u001b[0mtrain_op\u001b[0m\u001b[0;34m,\u001b[0m\u001b[0mself\u001b[0m\u001b[0;34m.\u001b[0m\u001b[0mloss\u001b[0m\u001b[0;34m]\u001b[0m\u001b[0;34m,\u001b[0m \u001b[0mfeed_dict\u001b[0m \u001b[0;34m=\u001b[0m \u001b[0mfeed_dict\u001b[0m\u001b[0;34m)\u001b[0m\u001b[0;34m\u001b[0m\u001b[0;34m\u001b[0m\u001b[0m\n\u001b[0m\u001b[1;32m    176\u001b[0m \u001b[0;34m\u001b[0m\u001b[0m\n\u001b[1;32m    177\u001b[0m                                         \u001b[0;32mif\u001b[0m \u001b[0mi\u001b[0m \u001b[0;34m%\u001b[0m \u001b[0mPRINT_LOSS_EVERY\u001b[0m \u001b[0;34m==\u001b[0m \u001b[0;36m0\u001b[0m\u001b[0;34m:\u001b[0m\u001b[0;34m\u001b[0m\u001b[0;34m\u001b[0m\u001b[0m\n",
            "\u001b[0;32m/anaconda2/envs/cs28/lib/python3.7/site-packages/tensorflow/python/client/session.py\u001b[0m in \u001b[0;36mrun\u001b[0;34m(self, fetches, feed_dict, options, run_metadata)\u001b[0m\n\u001b[1;32m    927\u001b[0m     \u001b[0;32mtry\u001b[0m\u001b[0;34m:\u001b[0m\u001b[0;34m\u001b[0m\u001b[0;34m\u001b[0m\u001b[0m\n\u001b[1;32m    928\u001b[0m       result = self._run(None, fetches, feed_dict, options_ptr,\n\u001b[0;32m--> 929\u001b[0;31m                          run_metadata_ptr)\n\u001b[0m\u001b[1;32m    930\u001b[0m       \u001b[0;32mif\u001b[0m \u001b[0mrun_metadata\u001b[0m\u001b[0;34m:\u001b[0m\u001b[0;34m\u001b[0m\u001b[0;34m\u001b[0m\u001b[0m\n\u001b[1;32m    931\u001b[0m         \u001b[0mproto_data\u001b[0m \u001b[0;34m=\u001b[0m \u001b[0mtf_session\u001b[0m\u001b[0;34m.\u001b[0m\u001b[0mTF_GetBuffer\u001b[0m\u001b[0;34m(\u001b[0m\u001b[0mrun_metadata_ptr\u001b[0m\u001b[0;34m)\u001b[0m\u001b[0;34m\u001b[0m\u001b[0;34m\u001b[0m\u001b[0m\n",
            "\u001b[0;32m/anaconda2/envs/cs28/lib/python3.7/site-packages/tensorflow/python/client/session.py\u001b[0m in \u001b[0;36m_run\u001b[0;34m(self, handle, fetches, feed_dict, options, run_metadata)\u001b[0m\n\u001b[1;32m   1150\u001b[0m     \u001b[0;32mif\u001b[0m \u001b[0mfinal_fetches\u001b[0m \u001b[0;32mor\u001b[0m \u001b[0mfinal_targets\u001b[0m \u001b[0;32mor\u001b[0m \u001b[0;34m(\u001b[0m\u001b[0mhandle\u001b[0m \u001b[0;32mand\u001b[0m \u001b[0mfeed_dict_tensor\u001b[0m\u001b[0;34m)\u001b[0m\u001b[0;34m:\u001b[0m\u001b[0;34m\u001b[0m\u001b[0;34m\u001b[0m\u001b[0m\n\u001b[1;32m   1151\u001b[0m       results = self._do_run(handle, final_targets, final_fetches,\n\u001b[0;32m-> 1152\u001b[0;31m                              feed_dict_tensor, options, run_metadata)\n\u001b[0m\u001b[1;32m   1153\u001b[0m     \u001b[0;32melse\u001b[0m\u001b[0;34m:\u001b[0m\u001b[0;34m\u001b[0m\u001b[0;34m\u001b[0m\u001b[0m\n\u001b[1;32m   1154\u001b[0m       \u001b[0mresults\u001b[0m \u001b[0;34m=\u001b[0m \u001b[0;34m[\u001b[0m\u001b[0;34m]\u001b[0m\u001b[0;34m\u001b[0m\u001b[0;34m\u001b[0m\u001b[0m\n",
            "\u001b[0;32m/anaconda2/envs/cs28/lib/python3.7/site-packages/tensorflow/python/client/session.py\u001b[0m in \u001b[0;36m_do_run\u001b[0;34m(self, handle, target_list, fetch_list, feed_dict, options, run_metadata)\u001b[0m\n\u001b[1;32m   1326\u001b[0m     \u001b[0;32mif\u001b[0m \u001b[0mhandle\u001b[0m \u001b[0;32mis\u001b[0m \u001b[0;32mNone\u001b[0m\u001b[0;34m:\u001b[0m\u001b[0;34m\u001b[0m\u001b[0;34m\u001b[0m\u001b[0m\n\u001b[1;32m   1327\u001b[0m       return self._do_call(_run_fn, feeds, fetches, targets, options,\n\u001b[0;32m-> 1328\u001b[0;31m                            run_metadata)\n\u001b[0m\u001b[1;32m   1329\u001b[0m     \u001b[0;32melse\u001b[0m\u001b[0;34m:\u001b[0m\u001b[0;34m\u001b[0m\u001b[0;34m\u001b[0m\u001b[0m\n\u001b[1;32m   1330\u001b[0m       \u001b[0;32mreturn\u001b[0m \u001b[0mself\u001b[0m\u001b[0;34m.\u001b[0m\u001b[0m_do_call\u001b[0m\u001b[0;34m(\u001b[0m\u001b[0m_prun_fn\u001b[0m\u001b[0;34m,\u001b[0m \u001b[0mhandle\u001b[0m\u001b[0;34m,\u001b[0m \u001b[0mfeeds\u001b[0m\u001b[0;34m,\u001b[0m \u001b[0mfetches\u001b[0m\u001b[0;34m)\u001b[0m\u001b[0;34m\u001b[0m\u001b[0;34m\u001b[0m\u001b[0m\n",
            "\u001b[0;32m/anaconda2/envs/cs28/lib/python3.7/site-packages/tensorflow/python/client/session.py\u001b[0m in \u001b[0;36m_do_call\u001b[0;34m(self, fn, *args)\u001b[0m\n\u001b[1;32m   1332\u001b[0m   \u001b[0;32mdef\u001b[0m \u001b[0m_do_call\u001b[0m\u001b[0;34m(\u001b[0m\u001b[0mself\u001b[0m\u001b[0;34m,\u001b[0m \u001b[0mfn\u001b[0m\u001b[0;34m,\u001b[0m \u001b[0;34m*\u001b[0m\u001b[0margs\u001b[0m\u001b[0;34m)\u001b[0m\u001b[0;34m:\u001b[0m\u001b[0;34m\u001b[0m\u001b[0;34m\u001b[0m\u001b[0m\n\u001b[1;32m   1333\u001b[0m     \u001b[0;32mtry\u001b[0m\u001b[0;34m:\u001b[0m\u001b[0;34m\u001b[0m\u001b[0;34m\u001b[0m\u001b[0m\n\u001b[0;32m-> 1334\u001b[0;31m       \u001b[0;32mreturn\u001b[0m \u001b[0mfn\u001b[0m\u001b[0;34m(\u001b[0m\u001b[0;34m*\u001b[0m\u001b[0margs\u001b[0m\u001b[0;34m)\u001b[0m\u001b[0;34m\u001b[0m\u001b[0;34m\u001b[0m\u001b[0m\n\u001b[0m\u001b[1;32m   1335\u001b[0m     \u001b[0;32mexcept\u001b[0m \u001b[0merrors\u001b[0m\u001b[0;34m.\u001b[0m\u001b[0mOpError\u001b[0m \u001b[0;32mas\u001b[0m \u001b[0me\u001b[0m\u001b[0;34m:\u001b[0m\u001b[0;34m\u001b[0m\u001b[0;34m\u001b[0m\u001b[0m\n\u001b[1;32m   1336\u001b[0m       \u001b[0mmessage\u001b[0m \u001b[0;34m=\u001b[0m \u001b[0mcompat\u001b[0m\u001b[0;34m.\u001b[0m\u001b[0mas_text\u001b[0m\u001b[0;34m(\u001b[0m\u001b[0me\u001b[0m\u001b[0;34m.\u001b[0m\u001b[0mmessage\u001b[0m\u001b[0;34m)\u001b[0m\u001b[0;34m\u001b[0m\u001b[0;34m\u001b[0m\u001b[0m\n",
            "\u001b[0;32m/anaconda2/envs/cs28/lib/python3.7/site-packages/tensorflow/python/client/session.py\u001b[0m in \u001b[0;36m_run_fn\u001b[0;34m(feed_dict, fetch_list, target_list, options, run_metadata)\u001b[0m\n\u001b[1;32m   1317\u001b[0m       \u001b[0mself\u001b[0m\u001b[0;34m.\u001b[0m\u001b[0m_extend_graph\u001b[0m\u001b[0;34m(\u001b[0m\u001b[0;34m)\u001b[0m\u001b[0;34m\u001b[0m\u001b[0;34m\u001b[0m\u001b[0m\n\u001b[1;32m   1318\u001b[0m       return self._call_tf_sessionrun(\n\u001b[0;32m-> 1319\u001b[0;31m           options, feed_dict, fetch_list, target_list, run_metadata)\n\u001b[0m\u001b[1;32m   1320\u001b[0m \u001b[0;34m\u001b[0m\u001b[0m\n\u001b[1;32m   1321\u001b[0m     \u001b[0;32mdef\u001b[0m \u001b[0m_prun_fn\u001b[0m\u001b[0;34m(\u001b[0m\u001b[0mhandle\u001b[0m\u001b[0;34m,\u001b[0m \u001b[0mfeed_dict\u001b[0m\u001b[0;34m,\u001b[0m \u001b[0mfetch_list\u001b[0m\u001b[0;34m)\u001b[0m\u001b[0;34m:\u001b[0m\u001b[0;34m\u001b[0m\u001b[0;34m\u001b[0m\u001b[0m\n",
            "\u001b[0;32m/anaconda2/envs/cs28/lib/python3.7/site-packages/tensorflow/python/client/session.py\u001b[0m in \u001b[0;36m_call_tf_sessionrun\u001b[0;34m(self, options, feed_dict, fetch_list, target_list, run_metadata)\u001b[0m\n\u001b[1;32m   1405\u001b[0m     return tf_session.TF_SessionRun_wrapper(\n\u001b[1;32m   1406\u001b[0m         \u001b[0mself\u001b[0m\u001b[0;34m.\u001b[0m\u001b[0m_session\u001b[0m\u001b[0;34m,\u001b[0m \u001b[0moptions\u001b[0m\u001b[0;34m,\u001b[0m \u001b[0mfeed_dict\u001b[0m\u001b[0;34m,\u001b[0m \u001b[0mfetch_list\u001b[0m\u001b[0;34m,\u001b[0m \u001b[0mtarget_list\u001b[0m\u001b[0;34m,\u001b[0m\u001b[0;34m\u001b[0m\u001b[0;34m\u001b[0m\u001b[0m\n\u001b[0;32m-> 1407\u001b[0;31m         run_metadata)\n\u001b[0m\u001b[1;32m   1408\u001b[0m \u001b[0;34m\u001b[0m\u001b[0m\n\u001b[1;32m   1409\u001b[0m   \u001b[0;32mdef\u001b[0m \u001b[0m_call_tf_sessionprun\u001b[0m\u001b[0;34m(\u001b[0m\u001b[0mself\u001b[0m\u001b[0;34m,\u001b[0m \u001b[0mhandle\u001b[0m\u001b[0;34m,\u001b[0m \u001b[0mfeed_dict\u001b[0m\u001b[0;34m,\u001b[0m \u001b[0mfetch_list\u001b[0m\u001b[0;34m)\u001b[0m\u001b[0;34m:\u001b[0m\u001b[0;34m\u001b[0m\u001b[0;34m\u001b[0m\u001b[0m\n",
            "\u001b[0;31mKeyboardInterrupt\u001b[0m: "
          ]
        }
      ]
    },
    {
      "cell_type": "code",
      "metadata": {
        "scrolled": true,
        "id": "db7xS0mDVxh3",
        "colab_type": "code",
        "outputId": "5bb7eeda-62f1-45a4-9d19-a4b7ca96f14d",
        "colab": {}
      },
      "source": [
        "print(X_train.shape)\n",
        "print(y_train.shape)"
      ],
      "execution_count": 0,
      "outputs": [
        {
          "output_type": "stream",
          "text": [
            "(50, 7, 1, 128, 128)\n",
            "(50, 7)\n"
          ],
          "name": "stdout"
        }
      ]
    },
    {
      "cell_type": "markdown",
      "metadata": {
        "id": "rUL3Q-fLVxh8",
        "colab_type": "text"
      },
      "source": [
        "### Can skip the first part if  labels are already on hand"
      ]
    },
    {
      "cell_type": "code",
      "metadata": {
        "id": "DROX8ArEVxh9",
        "colab_type": "code",
        "outputId": "08791658-b962-4fb0-a32e-6513cc534fa1",
        "colab": {
          "base_uri": "https://localhost:8080/",
          "height": 34
        }
      },
      "source": [
        "import librosa\n",
        "import librosa.display\n",
        "import matplotlib.pyplot as plt\n",
        "import numpy as np\n",
        "from os import listdir\n",
        "from os.path import isfile, join\n",
        "import pickle\n",
        "dir_prefix = '/content/gdrive/My Drive/CS282A_Project'\n",
        "annot_path = dir_prefix + '/cs282proj/salami-data-public/annotations/'#'salami-data-public/annotations/'\n",
        "annot_names = [f.replace('\\ufeff','') for f in listdir(annot_path)][:-1]\n",
        "all_annot = []\n",
        "\n",
        "for i in annot_names:\n",
        "    annot_path1 = annot_path + i + '/parsed/textfile1_functions.txt'\n",
        "    try:\n",
        "        file = open(annot_path1, 'r')\n",
        "    except:\n",
        "        print('Oops, file', i, 'had an error')\n",
        "    single_annot = []\n",
        "    for j in file:\n",
        "        single_annot.append(np.array(j.replace('\\n','').split('\\t')))\n",
        "        \n",
        "    all_annot.append(np.array(single_annot))\n",
        "    \n",
        "for i in range(len(all_annot)):\n",
        "    all_annot[i][:,0] = np.array([np.float32(j) for j in all_annot[i][:,0]])\n",
        "    \n",
        "np.array(all_annot).shape    "
      ],
      "execution_count": 0,
      "outputs": [
        {
          "output_type": "execute_result",
          "data": {
            "text/plain": [
              "(437,)"
            ]
          },
          "metadata": {
            "tags": []
          },
          "execution_count": 3
        }
      ]
    },
    {
      "cell_type": "code",
      "metadata": {
        "id": "xHaRY554YNrH",
        "colab_type": "code",
        "outputId": "5685fbe5-5afa-4c37-b84e-5852ce5c1f39",
        "colab": {
          "base_uri": "https://localhost:8080/",
          "height": 34
        }
      },
      "source": [
        "len(all_annot)"
      ],
      "execution_count": 0,
      "outputs": [
        {
          "output_type": "execute_result",
          "data": {
            "text/plain": [
              "437"
            ]
          },
          "metadata": {
            "tags": []
          },
          "execution_count": 8
        }
      ]
    },
    {
      "cell_type": "code",
      "metadata": {
        "id": "O_z0ZgxPWNx6",
        "colab_type": "code",
        "colab": {}
      },
      "source": [
        "def resolve_no_function(all_annotation):\n",
        "  for i, song in enumerate(all_annotation):\n",
        "\n",
        "    for (j, (onset, label)) in enumerate(song):\n",
        "      if label == 'no_function':\n",
        "        if j == 0:\n",
        "          all_annotation[i][j] = (onset, 'Intro')\n",
        "        elif j == len(song) - 1:\n",
        "          all_annotation[i][j] = (onset, 'End')\n",
        "        else:\n",
        "          before_timing = float(onset) - float(song[j-1][0])\n",
        "          after_timing = float(song[j+1][0]) - float(onset)\n",
        "          if before_timing < after_timing or song[j+1][1] == 'no_function':\n",
        "            all_annotation[i][j] = (onset, song[j-1][1])\n",
        "          else:\n",
        "            all_annotation[i][j] = (onset, song[j+1][1])\n",
        "      label = all_annotation[i][j][1]\n",
        "      if label == 'pre-chorus' or label == 'post-chorus':\n",
        "        all_annotation[i][j][1] = 'Chorus'\n",
        "      \n",
        "  return\n",
        "          \n",
        "    "
      ],
      "execution_count": 0,
      "outputs": []
    },
    {
      "cell_type": "code",
      "metadata": {
        "id": "gX5zzlKjWQT7",
        "colab_type": "code",
        "colab": {}
      },
      "source": [
        "resolve_no_function(all_annot)"
      ],
      "execution_count": 0,
      "outputs": []
    },
    {
      "cell_type": "markdown",
      "metadata": {
        "id": "TmXBqRT7VxiK",
        "colab_type": "text"
      },
      "source": [
        "### Spectrograms were too large to save in the form (N,K,128,128), gotta load the original spectrogram file and run the functions below"
      ]
    },
    {
      "cell_type": "code",
      "metadata": {
        "id": "QQ3AYkiHVxiM",
        "colab_type": "code",
        "outputId": "a5a3e6d2-761f-419e-cdfa-554ed05d380a",
        "colab": {
          "base_uri": "https://localhost:8080/",
          "height": 34
        }
      },
      "source": [
        "import pickle\n",
        "with open(dir_prefix +'/all_songs.pkl', 'rb') as f:\n",
        "    spec = pickle.load(f)\n",
        "len(spec)"
      ],
      "execution_count": 0,
      "outputs": [
        {
          "output_type": "execute_result",
          "data": {
            "text/plain": [
              "437"
            ]
          },
          "metadata": {
            "tags": []
          },
          "execution_count": 70
        }
      ]
    },
    {
      "cell_type": "code",
      "metadata": {
        "id": "J0TDbvvObh8P",
        "colab_type": "code",
        "colab": {}
      },
      "source": [
        "spec2 = {}\n",
        "for i, song in enumerate(spec[:100]):\n",
        "  spec2[i] = song.tolist()"
      ],
      "execution_count": 0,
      "outputs": []
    },
    {
      "cell_type": "code",
      "metadata": {
        "id": "lMdy0p0fZ9cE",
        "colab_type": "code",
        "outputId": "6627203d-c942-46ad-bd97-021777c0c7aa",
        "colab": {
          "base_uri": "https://localhost:8080/",
          "height": 218
        }
      },
      "source": [
        "import codecs, json\n",
        "\n",
        "## write \n",
        "\n",
        " # nested lists with same data, indices\n",
        "file_path = dir_prefix + \"/spec.json\" ## your path variable\n",
        "json.dump(np.array(spec), codecs.open(file_path, 'w', encoding='utf-8'), separators=(',', ':'), sort_keys=True, indent=4) ### this saves the array in .json format"
      ],
      "execution_count": 0,
      "outputs": [
        {
          "output_type": "error",
          "ename": "ValueError",
          "evalue": "ignored",
          "traceback": [
            "\u001b[0;31m---------------------------------------------------------------------------\u001b[0m",
            "\u001b[0;31mValueError\u001b[0m                                Traceback (most recent call last)",
            "\u001b[0;32m<ipython-input-83-38d4bab99bed>\u001b[0m in \u001b[0;36m<module>\u001b[0;34m()\u001b[0m\n\u001b[1;32m      5\u001b[0m  \u001b[0;31m# nested lists with same data, indices\u001b[0m\u001b[0;34m\u001b[0m\u001b[0;34m\u001b[0m\u001b[0;34m\u001b[0m\u001b[0m\n\u001b[1;32m      6\u001b[0m \u001b[0mfile_path\u001b[0m \u001b[0;34m=\u001b[0m \u001b[0mdir_prefix\u001b[0m \u001b[0;34m+\u001b[0m \u001b[0;34m\"/spec.json\"\u001b[0m \u001b[0;31m## your path variable\u001b[0m\u001b[0;34m\u001b[0m\u001b[0;34m\u001b[0m\u001b[0m\n\u001b[0;32m----> 7\u001b[0;31m \u001b[0mjson\u001b[0m\u001b[0;34m.\u001b[0m\u001b[0mdump\u001b[0m\u001b[0;34m(\u001b[0m\u001b[0mnp\u001b[0m\u001b[0;34m.\u001b[0m\u001b[0marray\u001b[0m\u001b[0;34m(\u001b[0m\u001b[0mspec\u001b[0m\u001b[0;34m)\u001b[0m\u001b[0;34m,\u001b[0m \u001b[0mcodecs\u001b[0m\u001b[0;34m.\u001b[0m\u001b[0mopen\u001b[0m\u001b[0;34m(\u001b[0m\u001b[0mfile_path\u001b[0m\u001b[0;34m,\u001b[0m \u001b[0;34m'w'\u001b[0m\u001b[0;34m,\u001b[0m \u001b[0mencoding\u001b[0m\u001b[0;34m=\u001b[0m\u001b[0;34m'utf-8'\u001b[0m\u001b[0;34m)\u001b[0m\u001b[0;34m,\u001b[0m \u001b[0mseparators\u001b[0m\u001b[0;34m=\u001b[0m\u001b[0;34m(\u001b[0m\u001b[0;34m','\u001b[0m\u001b[0;34m,\u001b[0m \u001b[0;34m':'\u001b[0m\u001b[0;34m)\u001b[0m\u001b[0;34m,\u001b[0m \u001b[0msort_keys\u001b[0m\u001b[0;34m=\u001b[0m\u001b[0;32mTrue\u001b[0m\u001b[0;34m,\u001b[0m \u001b[0mindent\u001b[0m\u001b[0;34m=\u001b[0m\u001b[0;36m4\u001b[0m\u001b[0;34m)\u001b[0m \u001b[0;31m### this saves the array in .json format\u001b[0m\u001b[0;34m\u001b[0m\u001b[0;34m\u001b[0m\u001b[0m\n\u001b[0m",
            "\u001b[0;31mValueError\u001b[0m: could not broadcast input array from shape (128,17201) into shape (128)"
          ]
        }
      ]
    },
    {
      "cell_type": "code",
      "metadata": {
        "id": "anH6NAdYaueh",
        "colab_type": "code",
        "colab": {}
      },
      "source": [
        "## read \n",
        "obj_text = codecs.open(file_path, 'r', encoding='utf-8').read()\n",
        "b_new = json.loads(obj_text)\n",
        "a_new = np.array(b_new)"
      ],
      "execution_count": 0,
      "outputs": []
    },
    {
      "cell_type": "code",
      "metadata": {
        "id": "y4ggzhotVxiS",
        "colab_type": "code",
        "colab": {}
      },
      "source": [
        "from sklearn.preprocessing import LabelEncoder\n",
        "from sklearn.preprocessing import OneHotEncoder\n",
        "\n",
        "def pad_labels(labels, K=7):\n",
        "    for i in range(len(labels)):\n",
        "        pad = len(labels[i]) % K\n",
        "        labels[i] += (['silence'] * (K-pad))\n",
        "    return labels\n",
        "\n",
        "    \n",
        "def onehot_reshape_labels(padded_labels, K=7): # Shapes to (7344, 7, 31)\n",
        "    all_labels = []\n",
        "    \n",
        "    for i in padded_labels:\n",
        "        all_labels += i\n",
        "\n",
        "    all_labels = np.array(all_labels).reshape(-1,1)\n",
        "    encoder = OneHotEncoder(sparse = False)\n",
        "    one_hot_labels = encoder.fit_transform(all_labels)\n",
        "    NT, E = one_hot_labels.shape\n",
        "    one_hot_labels = one_hot_labels.reshape(int(NT/K), K, E)\n",
        "    \n",
        "    return one_hot_labels, encoder\n",
        "\n",
        "def argmax_reshape_labels(padded_labels, K=7): \n",
        "    all_labels = []\n",
        "    \n",
        "    for i in padded_labels:\n",
        "        all_labels += i\n",
        "\n",
        "    all_labels = np.array(all_labels).reshape(-1,1)\n",
        "    encoder = LabelEncoder()\n",
        "    argmax_labels = encoder.fit_transform(all_labels)\n",
        "    \n",
        "    return argmax_labels.reshape(int(len(argmax_labels)/K),K), encoder\n",
        "\n",
        "def pad_spectrogram(spec, columns, K=7): # THIS WILL TAKE A FEW MINUTES. Shapes to (7344, 7, 1, 128, 128)\n",
        "    \n",
        "    reshaped_spec = []\n",
        "    \n",
        "    for i in range(len(spec)):\n",
        "        \n",
        "        pad = spec[i].shape[1] % (columns*K)\n",
        "        pad_columns = np.array(([0] * 128) * (columns*K-pad)).reshape(128, columns*K-pad)\n",
        "        spec[i] = np.hstack((spec[i],pad_columns))\n",
        "        \n",
        "        row = []\n",
        "        count = 1\n",
        "        \n",
        "        for j in range(0, spec[i].shape[1], columns):            \n",
        "            row.append(spec[i][:,j:j+columns])\n",
        "            \n",
        "            if count % 7 == 0:\n",
        "                reshaped_spec.append(np.array(row))\n",
        "                row = []\n",
        "                \n",
        "            count+= 1\n",
        "    \n",
        "    reshaped_spec = np.array(reshaped_spec)   \n",
        "    (N, _, _, columns) = reshaped_spec.shape   \n",
        "    reshaped_spec = reshaped_spec.reshape(N, K, 1, 128, columns)\n",
        "    \n",
        "    return reshaped_spec\n",
        "\n",
        "def pad_spectrogram2(spec, columns, K=7): # THIS WILL TAKE A FEW MINUTES. Shapes to (7344 * 7, 128, 128)\n",
        "    \n",
        "    reshaped_spec = []\n",
        "    \n",
        "    for i in range(len(spec)):\n",
        "        \n",
        "        pad = spec[i].shape[1] % (columns*K)\n",
        "        pad_columns = np.array(([0] * 128) * (columns*K-pad)).reshape(128, columns*K-pad)\n",
        "        spec[i] = np.hstack((spec[i],pad_columns))\n",
        "        \n",
        "        row = []\n",
        "        count = 1\n",
        "        \n",
        "        for j in range(0, spec[i].shape[1], columns):            \n",
        "            reshaped_spec.append(spec[i][:,j:j+columns])\n",
        "            \n",
        "    reshaped_spec = np.asarray(reshaped_spec)#.reshape(len(reshaped_spec), 1, 128, columns)\n",
        "           \n",
        "    return reshaped_spec\n",
        "\n",
        "\n",
        "def reshape_spectrogram(spec, K=7):\n",
        "    \n",
        "    combined_spec = spec[0]\n",
        "    for i in range(1, len(spec)):\n",
        "        combined_spec = np.hstack((combined_spec, spec[i]))\n",
        "    \n",
        "    "
      ],
      "execution_count": 0,
      "outputs": []
    },
    {
      "cell_type": "code",
      "metadata": {
        "id": "JXgDlDO-VxiX",
        "colab_type": "code",
        "colab": {}
      },
      "source": [
        "import math\n",
        "\n",
        "def get_padded_labels(songs, columns, all_annot, K = 7):\n",
        "\n",
        "    ratio = 43.067100650976464\n",
        "    labels = []\n",
        "    dividers = []\n",
        "    \n",
        "    for s in range(len(songs)):\n",
        "        song_len = songs[s].shape[1]/ratio\n",
        "        pad = song_len % (K * 2.972) # should be generalized to columns/ratio, but due to rounding errors, we need to hard-code\n",
        "        song_len = song_len + (K * 2.972)- pad\n",
        "        labels.append(['silence'] * math.ceil(song_len/(2.972)))\n",
        "\n",
        "    for s in range(len(songs)):\n",
        "        annot = all_annot[s]\n",
        "        label_markers = np.array([np.float32(j) for j in annot[:,0]])\n",
        "\n",
        "        song_len = songs[s].shape[1]/ratio\n",
        "        divider = [i for i in np.arange(columns/ratio, song_len, columns/ratio)]\n",
        "        divider.append(song_len)\n",
        "\n",
        "        for i in range(len(divider)):\n",
        "            for j in range(len(label_markers)):\n",
        "\n",
        "                if j < len(label_markers)-1:\n",
        "                    if (divider[i] >= label_markers[j]) & (divider[i] < label_markers[j+1]):\n",
        "                        labels[s][i] = all_annot[s][j,1].lower()\n",
        "                else:\n",
        "                    if divider[i] >= label_markers[j]:\n",
        "                        labels[s][i] = all_annot[s][j,1].lower()\n",
        "\n",
        "        dividers.append(divider)\n",
        "    \n",
        "    return labels, dividers"
      ],
      "execution_count": 0,
      "outputs": []
    },
    {
      "cell_type": "code",
      "metadata": {
        "id": "ACknQdOlVxid",
        "colab_type": "code",
        "colab": {}
      },
      "source": [
        "import collections\n",
        "\n",
        "def unique_labels(labels):\n",
        "    l = collections.Counter()\n",
        "    for i in labels:\n",
        "        for j in i:\n",
        "            l[j] += 1\n",
        "    \n",
        "    return l"
      ],
      "execution_count": 0,
      "outputs": []
    },
    {
      "cell_type": "code",
      "metadata": {
        "id": "t31XzsgaVxii",
        "colab_type": "code",
        "colab": {}
      },
      "source": [
        "columns = 128 # determines how long each sub-sample is (~3 seconds for 128)\n",
        "\n",
        "labels, dividers = get_padded_labels(spec, columns, all_annot)"
      ],
      "execution_count": 0,
      "outputs": []
    },
    {
      "cell_type": "code",
      "metadata": {
        "id": "ibmcby7FVxio",
        "colab_type": "code",
        "outputId": "ad88fa51-c9d8-4a58-bd2b-8521982b47b9",
        "colab": {
          "base_uri": "https://localhost:8080/",
          "height": 272
        }
      },
      "source": [
        "unique_labels(labels).most_common(15)"
      ],
      "execution_count": 0,
      "outputs": [
        {
          "output_type": "execute_result",
          "data": {
            "text/plain": [
              "[('end', 11520),\n",
              " ('verse', 9305),\n",
              " ('solo', 8414),\n",
              " ('chorus', 6861),\n",
              " ('intro', 3318),\n",
              " ('silence', 3053),\n",
              " ('interlude', 1951),\n",
              " ('outro', 1581),\n",
              " ('instrumental', 1449),\n",
              " ('bridge', 1003),\n",
              " ('coda', 665),\n",
              " ('pre-chorus', 574),\n",
              " ('head', 529),\n",
              " ('theme', 369),\n",
              " ('transition', 303)]"
            ]
          },
          "metadata": {
            "tags": []
          },
          "execution_count": 72
        }
      ]
    },
    {
      "cell_type": "code",
      "metadata": {
        "scrolled": true,
        "id": "entdpv_aVxis",
        "colab_type": "code",
        "colab": {}
      },
      "source": [
        "wanted = ['solo','verse','chorus','end','intro','interlude','outro','instrumental','silence','bridge']\n"
      ],
      "execution_count": 0,
      "outputs": []
    },
    {
      "cell_type": "code",
      "metadata": {
        "id": "6cDyj2y9Vxiw",
        "colab_type": "code",
        "colab": {}
      },
      "source": [
        "for i in range(len(labels)):\n",
        "    for j in range(len(labels[i])):\n",
        "        if labels[i][j] not in wanted:\n",
        "            labels[i][j] = 'misc'"
      ],
      "execution_count": 0,
      "outputs": []
    },
    {
      "cell_type": "code",
      "metadata": {
        "id": "-fsqZh3vVxiz",
        "colab_type": "code",
        "outputId": "0d728c99-3821-44ac-a06f-cee415ea9bbc",
        "colab": {
          "base_uri": "https://localhost:8080/",
          "height": 204
        }
      },
      "source": [
        "unique_labels(labels)"
      ],
      "execution_count": 0,
      "outputs": [
        {
          "output_type": "execute_result",
          "data": {
            "text/plain": [
              "Counter({'bridge': 1003,\n",
              "         'chorus': 6861,\n",
              "         'end': 11520,\n",
              "         'instrumental': 1449,\n",
              "         'interlude': 1951,\n",
              "         'intro': 3318,\n",
              "         'misc': 2953,\n",
              "         'outro': 1581,\n",
              "         'silence': 3053,\n",
              "         'solo': 8414,\n",
              "         'verse': 9305})"
            ]
          },
          "metadata": {
            "tags": []
          },
          "execution_count": 74
        }
      ]
    },
    {
      "cell_type": "code",
      "metadata": {
        "scrolled": false,
        "id": "yI9RHPWsVxi9",
        "colab_type": "code",
        "outputId": "110b9f95-09bb-4169-fb75-2e31224c88d5",
        "colab": {
          "base_uri": "https://localhost:8080/",
          "height": 34
        }
      },
      "source": [
        "onehot_labels, encoder = onehot_reshape_labels(labels)\n",
        "onehot_labels.shape"
      ],
      "execution_count": 0,
      "outputs": [
        {
          "output_type": "execute_result",
          "data": {
            "text/plain": [
              "(7344, 7, 11)"
            ]
          },
          "metadata": {
            "tags": []
          },
          "execution_count": 75
        }
      ]
    },
    {
      "cell_type": "code",
      "metadata": {
        "id": "V_eipzFX6R97",
        "colab_type": "code",
        "outputId": "485b859b-ae19-40d6-e0de-3a8354d70079",
        "colab": {
          "base_uri": "https://localhost:8080/",
          "height": 51
        }
      },
      "source": [
        "encoder.categories_"
      ],
      "execution_count": 0,
      "outputs": [
        {
          "output_type": "execute_result",
          "data": {
            "text/plain": [
              "[array(['bridge', 'chorus', 'end', 'instrumental', 'interlude', 'intro',\n",
              "        'misc', 'outro', 'silence', 'solo', 'verse'], dtype='<U12')]"
            ]
          },
          "metadata": {
            "tags": []
          },
          "execution_count": 172
        }
      ]
    },
    {
      "cell_type": "code",
      "metadata": {
        "id": "M8ApUciwVxjD",
        "colab_type": "code",
        "colab": {}
      },
      "source": [
        "one_hot_labels = np.load(dir_prefix+ '/one_hot_labels.npy')\n",
        "argmax_labels = np.argmax(one_hot_labels, axis = 2)"
      ],
      "execution_count": 0,
      "outputs": []
    },
    {
      "cell_type": "markdown",
      "metadata": {
        "id": "tI8ZVFx8YD_X",
        "colab_type": "text"
      },
      "source": [
        "### Spectrogram to x matrix"
      ]
    },
    {
      "cell_type": "code",
      "metadata": {
        "scrolled": true,
        "id": "pG22FW_GVxjF",
        "colab_type": "code",
        "outputId": "4c4391f2-b9dc-4ca7-9f61-422c49db3390",
        "colab": {
          "base_uri": "https://localhost:8080/",
          "height": 34
        }
      },
      "source": [
        "columns = 128\n",
        "\n",
        "spec_100 = pad_spectrogram2(spec[:100], columns)\n",
        "spec_100.shape"
      ],
      "execution_count": 0,
      "outputs": [
        {
          "output_type": "execute_result",
          "data": {
            "text/plain": [
              "(11620, 128, 128)"
            ]
          },
          "metadata": {
            "tags": []
          },
          "execution_count": 89
        }
      ]
    },
    {
      "cell_type": "code",
      "metadata": {
        "id": "iP0YdapsVxjO",
        "colab_type": "code",
        "colab": {}
      },
      "source": [
        "spec_100 = spec_100.reshape(11620, 128, 128, 1) #51408"
      ],
      "execution_count": 0,
      "outputs": []
    },
    {
      "cell_type": "code",
      "metadata": {
        "id": "ToPDBdOTmenz",
        "colab_type": "code",
        "outputId": "4e7dcad5-820f-4c83-bf1a-a771db253630",
        "colab": {
          "base_uri": "https://localhost:8080/",
          "height": 34
        }
      },
      "source": [
        "json.dumps(spec)"
      ],
      "execution_count": 0,
      "outputs": [
        {
          "output_type": "execute_result",
          "data": {
            "text/plain": [
              "list"
            ]
          },
          "metadata": {
            "tags": []
          },
          "execution_count": 81
        }
      ]
    },
    {
      "cell_type": "code",
      "metadata": {
        "scrolled": false,
        "id": "rNeKxmh2VxjX",
        "colab_type": "code",
        "outputId": "1b4724e0-1a9a-4f74-d404-5a411ac1ee3b",
        "colab": {
          "base_uri": "https://localhost:8080/",
          "height": 34
        }
      },
      "source": [
        "## Jinlin note: tailored for the first 100 songs 1660*7 labels\n",
        "onehot_labels = onehot_labels[:1660].reshape(1660*7, 11) # 7344\n",
        "onehot_labels.shape"
      ],
      "execution_count": 0,
      "outputs": [
        {
          "output_type": "execute_result",
          "data": {
            "text/plain": [
              "(11620, 11)"
            ]
          },
          "metadata": {
            "tags": []
          },
          "execution_count": 77
        }
      ]
    },
    {
      "cell_type": "code",
      "metadata": {
        "id": "bVo-AqW8Vxjd",
        "colab_type": "code",
        "outputId": "9274a276-2930-4519-b358-cd009f71ac20",
        "colab": {
          "base_uri": "https://localhost:8080/",
          "height": 34
        }
      },
      "source": [
        "train_idx = int(0.8 * onehot_labels.shape[0])\n",
        "print(train_idx)"
      ],
      "execution_count": 0,
      "outputs": [
        {
          "output_type": "stream",
          "text": [
            "9296\n"
          ],
          "name": "stdout"
        }
      ]
    },
    {
      "cell_type": "markdown",
      "metadata": {
        "id": "XaHx4VQkVxjg",
        "colab_type": "text"
      },
      "source": [
        "### Fitting data into basic 2D CNN model"
      ]
    },
    {
      "cell_type": "code",
      "metadata": {
        "id": "Kn08tL2QVxji",
        "colab_type": "code",
        "outputId": "9e0b1e19-7494-4adb-bdcf-94feca86a6b6",
        "colab": {
          "base_uri": "https://localhost:8080/",
          "height": 105
        }
      },
      "source": [
        "# MODEL\n",
        "from keras.models import Sequential\n",
        "from keras.layers import Conv2D, MaxPooling2D\n",
        "from keras.layers import Activation, Dropout, Flatten, Dense\n",
        "\n",
        "model = Sequential()\n",
        "model.add(Conv2D(64, (3, 3), input_shape=(128, 128, 1)))\n",
        "model.add(Activation('relu'))\n",
        "model.add(MaxPooling2D(pool_size=(2, 2)))\n",
        "\n",
        "model.add(Conv2D(32, (3, 3)))\n",
        "model.add(Activation('relu'))\n",
        "model.add(MaxPooling2D(pool_size=(2, 2)))\n",
        "\n",
        "model.add(Flatten())\n",
        "model.add(Dense(onehot_labels.shape[1], activation = 'softmax'))\n",
        "#model.add(Dropout(0.5))\n",
        "\n",
        "model.compile(loss='categorical_crossentropy',\n",
        "              optimizer='adam',\n",
        "              metrics=['accuracy'])"
      ],
      "execution_count": 0,
      "outputs": [
        {
          "output_type": "stream",
          "text": [
            "Using TensorFlow backend.\n"
          ],
          "name": "stderr"
        },
        {
          "output_type": "stream",
          "text": [
            "WARNING:tensorflow:From /usr/local/lib/python3.6/dist-packages/tensorflow/python/framework/op_def_library.py:263: colocate_with (from tensorflow.python.framework.ops) is deprecated and will be removed in a future version.\n",
            "Instructions for updating:\n",
            "Colocations handled automatically by placer.\n"
          ],
          "name": "stdout"
        }
      ]
    },
    {
      "cell_type": "code",
      "metadata": {
        "id": "dLl6D_ywpKqC",
        "colab_type": "code",
        "colab": {
          "base_uri": "https://localhost:8080/",
          "height": 105
        },
        "outputId": "5c51ca0b-721b-490f-f398-47afb53bfe3a"
      },
      "source": [
        "from keras.models import model_from_json\n",
        "json_file = open('model.json', 'r')\n",
        "loaded_model_json = json_file.read()\n",
        "json_file.close()\n",
        "loaded_model = model_from_json(loaded_model_json)\n",
        "# load weights into new model\n",
        "loaded_model.load_weights(\"model.h5\")"
      ],
      "execution_count": 3,
      "outputs": [
        {
          "output_type": "stream",
          "text": [
            "Using TensorFlow backend.\n"
          ],
          "name": "stderr"
        },
        {
          "output_type": "stream",
          "text": [
            "WARNING:tensorflow:From /usr/local/lib/python3.6/dist-packages/tensorflow/python/framework/op_def_library.py:263: colocate_with (from tensorflow.python.framework.ops) is deprecated and will be removed in a future version.\n",
            "Instructions for updating:\n",
            "Colocations handled automatically by placer.\n"
          ],
          "name": "stdout"
        }
      ]
    },
    {
      "cell_type": "code",
      "metadata": {
        "id": "2pgSoXdawD4s",
        "colab_type": "code",
        "colab": {}
      },
      "source": [
        "def generate_class_image(target_y, model, l2_reg, rand_intput, lr= 1e-4, num_iteration = 1000):\n",
        "  ## define new loss to be the max [Likelihood(target_y) - regularization term]\n",
        "  new_loss = tf.gather(model.output, target_y, axis = 1) - l2_reg* tf.norm(model.inputs) ## \n",
        "  print(\"intput\", model.inputs[0])\n",
        "  print(new_loss)\n",
        "  grad = model.optimizer.get_gradients(new_loss, model.inputs)[0]\n",
        "  print(grad)\n",
        "  init_op = tf.initialize_all_variables()\n",
        "\n",
        "  with tf.Session() as sess:\n",
        "    for t in range(num_iteration):\n",
        "      sess.run(init_op)\n",
        "      g = sess.run(grad, feed_dict = {i: d for i, d in zip(model.inputs, [rand_intput])})\n",
        "      rand_intput += lr * g\n",
        "  return rand_intput"
      ],
      "execution_count": 0,
      "outputs": []
    },
    {
      "cell_type": "code",
      "metadata": {
        "id": "L1y-LQpYwmsE",
        "colab_type": "code",
        "outputId": "8bf8cac4-fe25-4b14-c675-c8b797caef17",
        "colab": {
          "base_uri": "https://localhost:8080/",
          "height": 68
        }
      },
      "source": [
        "import tensorflow as tf\n",
        "random_frame = np.random.rand(2,128,128,1)\n",
        "class_img = generate_class_image(8, model, 0.001, random_frame)"
      ],
      "execution_count": 0,
      "outputs": [
        {
          "output_type": "stream",
          "text": [
            "intput Tensor(\"conv2d_1_input:0\", shape=(?, 128, 128, 1), dtype=float32)\n",
            "Tensor(\"sub_24:0\", shape=(?,), dtype=float32)\n",
            "Tensor(\"gradients_25/AddN_1:0\", shape=(?, 128, 128, 1), dtype=float32)\n"
          ],
          "name": "stdout"
        }
      ]
    },
    {
      "cell_type": "code",
      "metadata": {
        "id": "d529HNrN5r1B",
        "colab_type": "code",
        "outputId": "5ec6311e-56ef-4695-d1c2-ad6f8c456148",
        "colab": {
          "base_uri": "https://localhost:8080/",
          "height": 51
        }
      },
      "source": [
        "class_names = encoder.categories_\n",
        "print(class_names)"
      ],
      "execution_count": 0,
      "outputs": [
        {
          "output_type": "stream",
          "text": [
            "[array(['bridge', 'chorus', 'end', 'instrumental', 'interlude', 'intro',\n",
            "       'misc', 'outro', 'silence', 'solo', 'verse'], dtype='<U12')]\n"
          ],
          "name": "stdout"
        }
      ]
    },
    {
      "cell_type": "code",
      "metadata": {
        "id": "fUQLgF5x5Ea6",
        "colab_type": "code",
        "colab": {}
      },
      "source": [
        "class_img_interlude = class_img.squeeze()"
      ],
      "execution_count": 0,
      "outputs": []
    },
    {
      "cell_type": "code",
      "metadata": {
        "id": "27LRB1Vt68LB",
        "colab_type": "code",
        "colab": {}
      },
      "source": [
        "class_img_solo = class_img.squeeze()"
      ],
      "execution_count": 0,
      "outputs": []
    },
    {
      "cell_type": "code",
      "metadata": {
        "id": "sdpA8N548IKW",
        "colab_type": "code",
        "colab": {}
      },
      "source": [
        "class_img_silence = class_img.squeeze()"
      ],
      "execution_count": 0,
      "outputs": []
    },
    {
      "cell_type": "code",
      "metadata": {
        "id": "4pJrWMXJ3nkY",
        "colab_type": "code",
        "outputId": "2ed63f99-dd70-4c2a-cec0-1c5230259235",
        "colab": {
          "base_uri": "https://localhost:8080/",
          "height": 34
        }
      },
      "source": [
        "class_img2[0].shape"
      ],
      "execution_count": 0,
      "outputs": [
        {
          "output_type": "execute_result",
          "data": {
            "text/plain": [
              "(128, 128)"
            ]
          },
          "metadata": {
            "tags": []
          },
          "execution_count": 163
        }
      ]
    },
    {
      "cell_type": "code",
      "metadata": {
        "id": "dXeerpXL4LgI",
        "colab_type": "code",
        "outputId": "3315ded8-8bce-4df4-b985-d4cbf55b7a01",
        "colab": {
          "base_uri": "https://localhost:8080/",
          "height": 34
        }
      },
      "source": [
        "spec_100[0][0].shape"
      ],
      "execution_count": 0,
      "outputs": [
        {
          "output_type": "execute_result",
          "data": {
            "text/plain": [
              "(128, 1)"
            ]
          },
          "metadata": {
            "tags": []
          },
          "execution_count": 154
        }
      ]
    },
    {
      "cell_type": "code",
      "metadata": {
        "id": "8_7WksTZ36j4",
        "colab_type": "code",
        "outputId": "0f0ce6aa-e93e-4efa-a73c-bdae37770eb8",
        "colab": {
          "base_uri": "https://localhost:8080/",
          "height": 585
        }
      },
      "source": [
        "plt.figure(figsize=(14, 8))\n",
        "librosa.display.specshow(librosa.power_to_db(class_img_silence[0], ref=np.max),\n",
        "                             y_axis='mel', fmax=8000,\n",
        "                             x_axis='time')\n",
        "plt.colorbar(format='%+2.0f dB')\n",
        "plt.title('Constructed Mel spectrogram for \\'silence\\'')\n",
        "plt.tight_layout()"
      ],
      "execution_count": 0,
      "outputs": [
        {
          "output_type": "display_data",
          "data": {
            "image/png": "[encoded data removed]",
            "text/plain": [
              "<Figure size 1008x576 with 2 Axes>"
            ]
          },
          "metadata": {
            "tags": []
          }
        }
      ]
    },
    {
      "cell_type": "code",
      "metadata": {
        "id": "hJaSWQUEA6QU",
        "colab_type": "code",
        "outputId": "729a67bd-3ef3-46a1-d089-61c25687bd94",
        "colab": {
          "base_uri": "https://localhost:8080/",
          "height": 34
        }
      },
      "source": [
        "import math\n",
        "import scipy\n",
        "\n",
        "print('You are using librosa version ' + librosa.__version__)\n",
        "\n",
        "### Citation: https://github.com/lonce/SPSI_Python/blob/master/SPSI_notebook/spsi.ipynb\n",
        "def spsi(msgram, fftsize, hop_length) :\n",
        "    \"\"\"\n",
        "    Takes a 2D spectrogram ([freqs,frames]), the fft legnth (= widnow length) and the hope size (both in units of samples).\n",
        "    Returns an audio signal.\n",
        "    \"\"\"\n",
        "    \n",
        "    numBins, numFrames  = msgram.shape\n",
        "    y_out=np.zeros(numFrames*hop_length+fftsize-hop_length)\n",
        "        \n",
        "    m_phase=np.zeros(numBins);      \n",
        "    m_win=scipy.signal.hanning(fftsize, sym=True)  # assumption here that hann was used to create the frames of the spectrogram\n",
        "    \n",
        "    #processes one frame of audio at a time\n",
        "    for i in range(numFrames) :\n",
        "            m_mag=msgram[:, i] \n",
        "            for j in range(1,numBins-1) : \n",
        "                if(m_mag[j]>m_mag[j-1] and m_mag[j]>m_mag[j+1]) : #if j is a peak\n",
        "                    alpha=m_mag[j-1];\n",
        "                    beta=m_mag[j];\n",
        "                    gamma=m_mag[j+1];\n",
        "                    denom=alpha-2*beta+gamma;\n",
        "                    \n",
        "                    if(denom!=0) :\n",
        "                        p=0.5*(alpha-gamma)/denom;\n",
        "                    else :\n",
        "                        p=0;\n",
        "                        \n",
        "                    #phaseRate=2*math.pi*(j-1+p)/fftsize;    #adjusted phase rate\n",
        "                    phaseRate=2*math.pi*(j+p)/fftsize;    #adjusted phase rate\n",
        "                    m_phase[j]= m_phase[j] + hop_length*phaseRate; #phase accumulator for this peak bin\n",
        "                    peakPhase=m_phase[j];\n",
        "                    \n",
        "                    # If actual peak is to the right of the bin freq\n",
        "                    if (p>0) :\n",
        "                        # First bin to right has pi shift\n",
        "                        bin=j+1;\n",
        "                        m_phase[bin]=peakPhase+math.pi;\n",
        "                        \n",
        "                        # Bins to left have shift of pi\n",
        "                        bin=j-1;\n",
        "                        while((bin>1) and (m_mag[bin]<m_mag[bin+1])) : # until you reach the trough\n",
        "                            m_phase[bin]=peakPhase+math.pi;\n",
        "                            bin=bin-1;\n",
        "                        \n",
        "                        #Bins to the right (beyond the first) have 0 shift\n",
        "                        bin=j+2;\n",
        "                        while((bin<(numBins)) and (m_mag[bin]<m_mag[bin-1])) :\n",
        "                            m_phase[bin]=peakPhase;\n",
        "                            bin=bin+1;\n",
        "                            \n",
        "                    #if actual peak is to the left of the bin frequency\n",
        "                    if(p<0) :\n",
        "                        # First bin to left has pi shift\n",
        "                        bin=j-1;\n",
        "                        m_phase[bin]=peakPhase+math.pi;\n",
        "\n",
        "                        # and bins to the right of me - here I am stuck in the middle with you\n",
        "                        bin=j+1;\n",
        "                        while((bin<(numBins)) and (m_mag[bin]<m_mag[bin-1])) :\n",
        "                            m_phase[bin]=peakPhase+math.pi;\n",
        "                            bin=bin+1;\n",
        "                        \n",
        "                        # and further to the left have zero shift\n",
        "                        bin=j-2;\n",
        "                        while((bin>1) and (m_mag[bin]<m_mag[bin+1])) : # until trough\n",
        "                            m_phase[bin]=peakPhase;\n",
        "                            bin=bin-1;\n",
        "                            \n",
        "                #end ops for peaks\n",
        "            #end loop over fft bins with\n",
        "\n",
        "            magphase=m_mag*np.exp(1j*m_phase)  #reconstruct with new phase (elementwise mult)\n",
        "            magphase[0]=0; magphase[numBins-1] = 0 #remove dc and nyquist\n",
        "            m_recon=np.concatenate([magphase,np.flip(np.conjugate(magphase[1:numBins-1]), 0)]) \n",
        "            \n",
        "            #overlap and add\n",
        "            m_recon=np.real(np.fft.ifft(m_recon))*m_win\n",
        "            y_out[i*hop_length:i*hop_length+fftsize]+=m_recon\n",
        "            \n",
        "    return y_out"
      ],
      "execution_count": 0,
      "outputs": [
        {
          "output_type": "stream",
          "text": [
            "You are using librosa version 0.6.3\n"
          ],
          "name": "stdout"
        }
      ]
    },
    {
      "cell_type": "code",
      "metadata": {
        "id": "nkmFgEKnB9pe",
        "colab_type": "code",
        "outputId": "c18c66ed-cd52-40b3-c630-a6e454f74ef3",
        "colab": {
          "base_uri": "https://localhost:8080/",
          "height": 34
        }
      },
      "source": [
        "class_img_silence[0].shape"
      ],
      "execution_count": 0,
      "outputs": [
        {
          "output_type": "execute_result",
          "data": {
            "text/plain": [
              "(128, 128)"
            ]
          },
          "metadata": {
            "tags": []
          },
          "execution_count": 193
        }
      ]
    },
    {
      "cell_type": "code",
      "metadata": {
        "id": "e2PAGVp6BNCH",
        "colab_type": "code",
        "outputId": "7d7eddbc-9bb1-4718-fe17-ff775ea91f8a",
        "colab": {
          "base_uri": "https://localhost:8080/",
          "height": 320
        }
      },
      "source": [
        "y_out = spsi(class_img_silence[0], fftsize=2048, hop_length=512) "
      ],
      "execution_count": 0,
      "outputs": [
        {
          "output_type": "stream",
          "text": [
            "/usr/local/lib/python3.6/dist-packages/ipykernel_launcher.py:17: DeprecationWarning: `hanning` is deprecated, use `scipy.signal.windows.hann` instead!\n"
          ],
          "name": "stderr"
        },
        {
          "output_type": "error",
          "ename": "ValueError",
          "evalue": "ignored",
          "traceback": [
            "\u001b[0;31m---------------------------------------------------------------------------\u001b[0m",
            "\u001b[0;31mValueError\u001b[0m                                Traceback (most recent call last)",
            "\u001b[0;32m<ipython-input-192-85cddb7b7dca>\u001b[0m in \u001b[0;36m<module>\u001b[0;34m()\u001b[0m\n\u001b[0;32m----> 1\u001b[0;31m \u001b[0my_out\u001b[0m \u001b[0;34m=\u001b[0m \u001b[0mspsi\u001b[0m\u001b[0;34m(\u001b[0m\u001b[0mclass_img_silence\u001b[0m\u001b[0;34m[\u001b[0m\u001b[0;36m0\u001b[0m\u001b[0;34m]\u001b[0m\u001b[0;34m,\u001b[0m \u001b[0mfftsize\u001b[0m\u001b[0;34m=\u001b[0m\u001b[0;36m2048\u001b[0m\u001b[0;34m,\u001b[0m \u001b[0mhop_length\u001b[0m\u001b[0;34m=\u001b[0m\u001b[0;36m512\u001b[0m\u001b[0;34m)\u001b[0m\u001b[0;34m\u001b[0m\u001b[0;34m\u001b[0m\u001b[0m\n\u001b[0m",
            "\u001b[0;32m<ipython-input-190-44117485148b>\u001b[0m in \u001b[0;36mspsi\u001b[0;34m(msgram, fftsize, hop_length)\u001b[0m\n\u001b[1;32m     81\u001b[0m \u001b[0;34m\u001b[0m\u001b[0m\n\u001b[1;32m     82\u001b[0m             \u001b[0;31m#overlap and add\u001b[0m\u001b[0;34m\u001b[0m\u001b[0;34m\u001b[0m\u001b[0;34m\u001b[0m\u001b[0m\n\u001b[0;32m---> 83\u001b[0;31m             \u001b[0mm_recon\u001b[0m\u001b[0;34m=\u001b[0m\u001b[0mnp\u001b[0m\u001b[0;34m.\u001b[0m\u001b[0mreal\u001b[0m\u001b[0;34m(\u001b[0m\u001b[0mnp\u001b[0m\u001b[0;34m.\u001b[0m\u001b[0mfft\u001b[0m\u001b[0;34m.\u001b[0m\u001b[0mifft\u001b[0m\u001b[0;34m(\u001b[0m\u001b[0mm_recon\u001b[0m\u001b[0;34m)\u001b[0m\u001b[0;34m)\u001b[0m\u001b[0;34m*\u001b[0m\u001b[0mm_win\u001b[0m\u001b[0;34m\u001b[0m\u001b[0;34m\u001b[0m\u001b[0m\n\u001b[0m\u001b[1;32m     84\u001b[0m             \u001b[0my_out\u001b[0m\u001b[0;34m[\u001b[0m\u001b[0mi\u001b[0m\u001b[0;34m*\u001b[0m\u001b[0mhop_length\u001b[0m\u001b[0;34m:\u001b[0m\u001b[0mi\u001b[0m\u001b[0;34m*\u001b[0m\u001b[0mhop_length\u001b[0m\u001b[0;34m+\u001b[0m\u001b[0mfftsize\u001b[0m\u001b[0;34m]\u001b[0m\u001b[0;34m+=\u001b[0m\u001b[0mm_recon\u001b[0m\u001b[0;34m\u001b[0m\u001b[0;34m\u001b[0m\u001b[0m\n\u001b[1;32m     85\u001b[0m \u001b[0;34m\u001b[0m\u001b[0m\n",
            "\u001b[0;31mValueError\u001b[0m: operands could not be broadcast together with shapes (254,) (2048,) "
          ]
        }
      ]
    },
    {
      "cell_type": "code",
      "metadata": {
        "id": "UOqbd9_oCbCd",
        "colab_type": "code",
        "colab": {}
      },
      "source": [
        "p = np.angle(librosa.stft(y_out, fftsize, hop_length, center=False))\n",
        "for i in range(50):\n",
        "    S = magD * np.exp(1j*p)\n",
        "    x = librosa.istft(S, hop_length, center=True) # Griffin Lim, assumes hann window; librosa only does one iteration?\n",
        "    p = np.angle(librosa.stft(x, fftsize, hop_length, center=True))\n",
        "\n",
        "IPython.display.Audio(data=x, rate=sr)"
      ],
      "execution_count": 0,
      "outputs": []
    },
    {
      "cell_type": "code",
      "metadata": {
        "id": "gKWbPJLp8ud7",
        "colab_type": "code",
        "colab": {}
      },
      "source": [
        "recovered_audio_orig = invert_pretty_spectrogram(wav_spectrogram, fft_size = fft_size,\n",
        "                                            step_size = step_size, log = True, n_iter = 10)\n",
        "IPython.display.Audio(data=recovered_audio_orig, rate=rate) # play the audio"
      ],
      "execution_count": 0,
      "outputs": []
    },
    {
      "cell_type": "code",
      "metadata": {
        "id": "IexuzpubVxjm",
        "colab_type": "code",
        "outputId": "10e0fcaf-f1d0-412b-e410-8c7efbf32c2e",
        "colab": {
          "base_uri": "https://localhost:8080/",
          "height": 463
        }
      },
      "source": [
        "model.fit(spec_100[:train_idx],onehot_labels[:train_idx], validation_data = (spec_100[train_idx:], onehot_labels[train_idx:]), epochs = 3\\\n",
        "         ,batch_size = 16)\n"
      ],
      "execution_count": 0,
      "outputs": [
        {
          "output_type": "stream",
          "text": [
            "WARNING:tensorflow:From /usr/local/lib/python3.6/dist-packages/tensorflow/python/ops/math_ops.py:3066: to_int32 (from tensorflow.python.ops.math_ops) is deprecated and will be removed in a future version.\n",
            "Instructions for updating:\n",
            "Use tf.cast instead.\n",
            "Train on 9296 samples, validate on 2324 samples\n",
            "Epoch 1/3\n",
            "9296/9296 [==============================] - 374s 40ms/step - loss: 2.2151 - acc: 0.2215 - val_loss: 2.0827 - val_acc: 0.2685\n",
            "Epoch 2/3\n",
            "1520/9296 [===>..........................] - ETA: 4:52 - loss: 1.9536 - acc: 0.2901"
          ],
          "name": "stdout"
        },
        {
          "output_type": "error",
          "ename": "KeyboardInterrupt",
          "evalue": "ignored",
          "traceback": [
            "\u001b[0;31m---------------------------------------------------------------------------\u001b[0m",
            "\u001b[0;31mKeyboardInterrupt\u001b[0m                         Traceback (most recent call last)",
            "\u001b[0;32m<ipython-input-91-a23951bf6756>\u001b[0m in \u001b[0;36m<module>\u001b[0;34m()\u001b[0m\n\u001b[0;32m----> 1\u001b[0;31m \u001b[0mmodel\u001b[0m\u001b[0;34m.\u001b[0m\u001b[0mfit\u001b[0m\u001b[0;34m(\u001b[0m\u001b[0mspec_100\u001b[0m\u001b[0;34m[\u001b[0m\u001b[0;34m:\u001b[0m\u001b[0mtrain_idx\u001b[0m\u001b[0;34m]\u001b[0m\u001b[0;34m,\u001b[0m\u001b[0monehot_labels\u001b[0m\u001b[0;34m[\u001b[0m\u001b[0;34m:\u001b[0m\u001b[0mtrain_idx\u001b[0m\u001b[0;34m]\u001b[0m\u001b[0;34m,\u001b[0m \u001b[0mvalidation_data\u001b[0m \u001b[0;34m=\u001b[0m \u001b[0;34m(\u001b[0m\u001b[0mspec_100\u001b[0m\u001b[0;34m[\u001b[0m\u001b[0mtrain_idx\u001b[0m\u001b[0;34m:\u001b[0m\u001b[0;34m]\u001b[0m\u001b[0;34m,\u001b[0m \u001b[0monehot_labels\u001b[0m\u001b[0;34m[\u001b[0m\u001b[0mtrain_idx\u001b[0m\u001b[0;34m:\u001b[0m\u001b[0;34m]\u001b[0m\u001b[0;34m)\u001b[0m\u001b[0;34m,\u001b[0m \u001b[0mepochs\u001b[0m \u001b[0;34m=\u001b[0m \u001b[0;36m3\u001b[0m         \u001b[0;34m,\u001b[0m\u001b[0mbatch_size\u001b[0m \u001b[0;34m=\u001b[0m \u001b[0;36m16\u001b[0m\u001b[0;34m)\u001b[0m\u001b[0;34m\u001b[0m\u001b[0;34m\u001b[0m\u001b[0m\n\u001b[0m",
            "\u001b[0;32m/usr/local/lib/python3.6/dist-packages/keras/engine/training.py\u001b[0m in \u001b[0;36mfit\u001b[0;34m(self, x, y, batch_size, epochs, verbose, callbacks, validation_split, validation_data, shuffle, class_weight, sample_weight, initial_epoch, steps_per_epoch, validation_steps, **kwargs)\u001b[0m\n\u001b[1;32m   1037\u001b[0m                                         \u001b[0minitial_epoch\u001b[0m\u001b[0;34m=\u001b[0m\u001b[0minitial_epoch\u001b[0m\u001b[0;34m,\u001b[0m\u001b[0;34m\u001b[0m\u001b[0;34m\u001b[0m\u001b[0m\n\u001b[1;32m   1038\u001b[0m                                         \u001b[0msteps_per_epoch\u001b[0m\u001b[0;34m=\u001b[0m\u001b[0msteps_per_epoch\u001b[0m\u001b[0;34m,\u001b[0m\u001b[0;34m\u001b[0m\u001b[0;34m\u001b[0m\u001b[0m\n\u001b[0;32m-> 1039\u001b[0;31m                                         validation_steps=validation_steps)\n\u001b[0m\u001b[1;32m   1040\u001b[0m \u001b[0;34m\u001b[0m\u001b[0m\n\u001b[1;32m   1041\u001b[0m     def evaluate(self, x=None, y=None,\n",
            "\u001b[0;32m/usr/local/lib/python3.6/dist-packages/keras/engine/training_arrays.py\u001b[0m in \u001b[0;36mfit_loop\u001b[0;34m(model, f, ins, out_labels, batch_size, epochs, verbose, callbacks, val_f, val_ins, shuffle, callback_metrics, initial_epoch, steps_per_epoch, validation_steps)\u001b[0m\n\u001b[1;32m    197\u001b[0m                     \u001b[0mins_batch\u001b[0m\u001b[0;34m[\u001b[0m\u001b[0mi\u001b[0m\u001b[0;34m]\u001b[0m \u001b[0;34m=\u001b[0m \u001b[0mins_batch\u001b[0m\u001b[0;34m[\u001b[0m\u001b[0mi\u001b[0m\u001b[0;34m]\u001b[0m\u001b[0;34m.\u001b[0m\u001b[0mtoarray\u001b[0m\u001b[0;34m(\u001b[0m\u001b[0;34m)\u001b[0m\u001b[0;34m\u001b[0m\u001b[0;34m\u001b[0m\u001b[0m\n\u001b[1;32m    198\u001b[0m \u001b[0;34m\u001b[0m\u001b[0m\n\u001b[0;32m--> 199\u001b[0;31m                 \u001b[0mouts\u001b[0m \u001b[0;34m=\u001b[0m \u001b[0mf\u001b[0m\u001b[0;34m(\u001b[0m\u001b[0mins_batch\u001b[0m\u001b[0;34m)\u001b[0m\u001b[0;34m\u001b[0m\u001b[0;34m\u001b[0m\u001b[0m\n\u001b[0m\u001b[1;32m    200\u001b[0m                 \u001b[0mouts\u001b[0m \u001b[0;34m=\u001b[0m \u001b[0mto_list\u001b[0m\u001b[0;34m(\u001b[0m\u001b[0mouts\u001b[0m\u001b[0;34m)\u001b[0m\u001b[0;34m\u001b[0m\u001b[0;34m\u001b[0m\u001b[0m\n\u001b[1;32m    201\u001b[0m                 \u001b[0;32mfor\u001b[0m \u001b[0ml\u001b[0m\u001b[0;34m,\u001b[0m \u001b[0mo\u001b[0m \u001b[0;32min\u001b[0m \u001b[0mzip\u001b[0m\u001b[0;34m(\u001b[0m\u001b[0mout_labels\u001b[0m\u001b[0;34m,\u001b[0m \u001b[0mouts\u001b[0m\u001b[0;34m)\u001b[0m\u001b[0;34m:\u001b[0m\u001b[0;34m\u001b[0m\u001b[0;34m\u001b[0m\u001b[0m\n",
            "\u001b[0;32m/usr/local/lib/python3.6/dist-packages/keras/backend/tensorflow_backend.py\u001b[0m in \u001b[0;36m__call__\u001b[0;34m(self, inputs)\u001b[0m\n\u001b[1;32m   2713\u001b[0m                 \u001b[0;32mreturn\u001b[0m \u001b[0mself\u001b[0m\u001b[0;34m.\u001b[0m\u001b[0m_legacy_call\u001b[0m\u001b[0;34m(\u001b[0m\u001b[0minputs\u001b[0m\u001b[0;34m)\u001b[0m\u001b[0;34m\u001b[0m\u001b[0;34m\u001b[0m\u001b[0m\n\u001b[1;32m   2714\u001b[0m \u001b[0;34m\u001b[0m\u001b[0m\n\u001b[0;32m-> 2715\u001b[0;31m             \u001b[0;32mreturn\u001b[0m \u001b[0mself\u001b[0m\u001b[0;34m.\u001b[0m\u001b[0m_call\u001b[0m\u001b[0;34m(\u001b[0m\u001b[0minputs\u001b[0m\u001b[0;34m)\u001b[0m\u001b[0;34m\u001b[0m\u001b[0;34m\u001b[0m\u001b[0m\n\u001b[0m\u001b[1;32m   2716\u001b[0m         \u001b[0;32melse\u001b[0m\u001b[0;34m:\u001b[0m\u001b[0;34m\u001b[0m\u001b[0;34m\u001b[0m\u001b[0m\n\u001b[1;32m   2717\u001b[0m             \u001b[0;32mif\u001b[0m \u001b[0mpy_any\u001b[0m\u001b[0;34m(\u001b[0m\u001b[0mis_tensor\u001b[0m\u001b[0;34m(\u001b[0m\u001b[0mx\u001b[0m\u001b[0;34m)\u001b[0m \u001b[0;32mfor\u001b[0m \u001b[0mx\u001b[0m \u001b[0;32min\u001b[0m \u001b[0minputs\u001b[0m\u001b[0;34m)\u001b[0m\u001b[0;34m:\u001b[0m\u001b[0;34m\u001b[0m\u001b[0;34m\u001b[0m\u001b[0m\n",
            "\u001b[0;32m/usr/local/lib/python3.6/dist-packages/keras/backend/tensorflow_backend.py\u001b[0m in \u001b[0;36m_call\u001b[0;34m(self, inputs)\u001b[0m\n\u001b[1;32m   2673\u001b[0m             \u001b[0mfetched\u001b[0m \u001b[0;34m=\u001b[0m \u001b[0mself\u001b[0m\u001b[0;34m.\u001b[0m\u001b[0m_callable_fn\u001b[0m\u001b[0;34m(\u001b[0m\u001b[0;34m*\u001b[0m\u001b[0marray_vals\u001b[0m\u001b[0;34m,\u001b[0m \u001b[0mrun_metadata\u001b[0m\u001b[0;34m=\u001b[0m\u001b[0mself\u001b[0m\u001b[0;34m.\u001b[0m\u001b[0mrun_metadata\u001b[0m\u001b[0;34m)\u001b[0m\u001b[0;34m\u001b[0m\u001b[0;34m\u001b[0m\u001b[0m\n\u001b[1;32m   2674\u001b[0m         \u001b[0;32melse\u001b[0m\u001b[0;34m:\u001b[0m\u001b[0;34m\u001b[0m\u001b[0;34m\u001b[0m\u001b[0m\n\u001b[0;32m-> 2675\u001b[0;31m             \u001b[0mfetched\u001b[0m \u001b[0;34m=\u001b[0m \u001b[0mself\u001b[0m\u001b[0;34m.\u001b[0m\u001b[0m_callable_fn\u001b[0m\u001b[0;34m(\u001b[0m\u001b[0;34m*\u001b[0m\u001b[0marray_vals\u001b[0m\u001b[0;34m)\u001b[0m\u001b[0;34m\u001b[0m\u001b[0;34m\u001b[0m\u001b[0m\n\u001b[0m\u001b[1;32m   2676\u001b[0m         \u001b[0;32mreturn\u001b[0m \u001b[0mfetched\u001b[0m\u001b[0;34m[\u001b[0m\u001b[0;34m:\u001b[0m\u001b[0mlen\u001b[0m\u001b[0;34m(\u001b[0m\u001b[0mself\u001b[0m\u001b[0;34m.\u001b[0m\u001b[0moutputs\u001b[0m\u001b[0;34m)\u001b[0m\u001b[0;34m]\u001b[0m\u001b[0;34m\u001b[0m\u001b[0;34m\u001b[0m\u001b[0m\n\u001b[1;32m   2677\u001b[0m \u001b[0;34m\u001b[0m\u001b[0m\n",
            "\u001b[0;32m/usr/local/lib/python3.6/dist-packages/tensorflow/python/client/session.py\u001b[0m in \u001b[0;36m__call__\u001b[0;34m(self, *args, **kwargs)\u001b[0m\n\u001b[1;32m   1437\u001b[0m           ret = tf_session.TF_SessionRunCallable(\n\u001b[1;32m   1438\u001b[0m               \u001b[0mself\u001b[0m\u001b[0;34m.\u001b[0m\u001b[0m_session\u001b[0m\u001b[0;34m.\u001b[0m\u001b[0m_session\u001b[0m\u001b[0;34m,\u001b[0m \u001b[0mself\u001b[0m\u001b[0;34m.\u001b[0m\u001b[0m_handle\u001b[0m\u001b[0;34m,\u001b[0m \u001b[0margs\u001b[0m\u001b[0;34m,\u001b[0m \u001b[0mstatus\u001b[0m\u001b[0;34m,\u001b[0m\u001b[0;34m\u001b[0m\u001b[0;34m\u001b[0m\u001b[0m\n\u001b[0;32m-> 1439\u001b[0;31m               run_metadata_ptr)\n\u001b[0m\u001b[1;32m   1440\u001b[0m         \u001b[0;32mif\u001b[0m \u001b[0mrun_metadata\u001b[0m\u001b[0;34m:\u001b[0m\u001b[0;34m\u001b[0m\u001b[0;34m\u001b[0m\u001b[0m\n\u001b[1;32m   1441\u001b[0m           \u001b[0mproto_data\u001b[0m \u001b[0;34m=\u001b[0m \u001b[0mtf_session\u001b[0m\u001b[0;34m.\u001b[0m\u001b[0mTF_GetBuffer\u001b[0m\u001b[0;34m(\u001b[0m\u001b[0mrun_metadata_ptr\u001b[0m\u001b[0;34m)\u001b[0m\u001b[0;34m\u001b[0m\u001b[0;34m\u001b[0m\u001b[0m\n",
            "\u001b[0;31mKeyboardInterrupt\u001b[0m: "
          ]
        }
      ]
    },
    {
      "cell_type": "code",
      "metadata": {
        "id": "Z3Ttl6TjVxjp",
        "colab_type": "code",
        "colab": {}
      },
      "source": [
        "predictions = model.predict(spec_100[train_idx:])"
      ],
      "execution_count": 0,
      "outputs": []
    },
    {
      "cell_type": "code",
      "metadata": {
        "id": "oSuvtf8lo7nT",
        "colab_type": "code",
        "outputId": "4ddd6e02-c694-4fb6-8b53-2736b966180d",
        "colab": {
          "base_uri": "https://localhost:8080/",
          "height": 497
        }
      },
      "source": [
        "model.save_weights(dir_prefix + \"/models/2d_cnn_draft_model.h5\")\n",
        "model_json = model.to_json()\n",
        "with open(\"/models/2d_cnn_draft_model.json\", \"w\") as json_file:\n",
        "    json_file.write(model_json)\n",
        "    "
      ],
      "execution_count": 0,
      "outputs": [
        {
          "output_type": "error",
          "ename": "OSError",
          "evalue": "ignored",
          "traceback": [
            "\u001b[0;31m---------------------------------------------------------------------------\u001b[0m",
            "\u001b[0;31mOSError\u001b[0m                                   Traceback (most recent call last)",
            "\u001b[0;32m<ipython-input-94-7e2b9036f3c0>\u001b[0m in \u001b[0;36m<module>\u001b[0;34m()\u001b[0m\n\u001b[1;32m      1\u001b[0m \u001b[0;32mfrom\u001b[0m \u001b[0mkeras\u001b[0m\u001b[0;34m.\u001b[0m\u001b[0mmodels\u001b[0m \u001b[0;32mimport\u001b[0m \u001b[0mmodel_from_json\u001b[0m\u001b[0;34m\u001b[0m\u001b[0;34m\u001b[0m\u001b[0m\n\u001b[0;32m----> 2\u001b[0;31m \u001b[0mmodel\u001b[0m\u001b[0;34m.\u001b[0m\u001b[0msave_weights\u001b[0m\u001b[0;34m(\u001b[0m\u001b[0mdir_prefix\u001b[0m \u001b[0;34m+\u001b[0m \u001b[0;34m\"/models/2d_cnn_draft_model.h5\"\u001b[0m\u001b[0;34m)\u001b[0m\u001b[0;34m\u001b[0m\u001b[0;34m\u001b[0m\u001b[0m\n\u001b[0m\u001b[1;32m      3\u001b[0m \u001b[0mmodel_json\u001b[0m \u001b[0;34m=\u001b[0m \u001b[0mmodel\u001b[0m\u001b[0;34m.\u001b[0m\u001b[0mto_json\u001b[0m\u001b[0;34m(\u001b[0m\u001b[0;34m)\u001b[0m\u001b[0;34m\u001b[0m\u001b[0;34m\u001b[0m\u001b[0m\n\u001b[1;32m      4\u001b[0m \u001b[0;32mwith\u001b[0m \u001b[0mopen\u001b[0m\u001b[0;34m(\u001b[0m\u001b[0;34m\"/models/2d_cnn_draft_model.json\"\u001b[0m\u001b[0;34m,\u001b[0m \u001b[0;34m\"w\"\u001b[0m\u001b[0;34m)\u001b[0m \u001b[0;32mas\u001b[0m \u001b[0mjson_file\u001b[0m\u001b[0;34m:\u001b[0m\u001b[0;34m\u001b[0m\u001b[0;34m\u001b[0m\u001b[0m\n\u001b[1;32m      5\u001b[0m     \u001b[0mjson_file\u001b[0m\u001b[0;34m.\u001b[0m\u001b[0mwrite\u001b[0m\u001b[0;34m(\u001b[0m\u001b[0mmodel_json\u001b[0m\u001b[0;34m)\u001b[0m\u001b[0;34m\u001b[0m\u001b[0;34m\u001b[0m\u001b[0m\n",
            "\u001b[0;32m/usr/local/lib/python3.6/dist-packages/keras/engine/network.py\u001b[0m in \u001b[0;36msave_weights\u001b[0;34m(self, filepath, overwrite)\u001b[0m\n\u001b[1;32m   1118\u001b[0m             \u001b[0;32mif\u001b[0m \u001b[0;32mnot\u001b[0m \u001b[0mproceed\u001b[0m\u001b[0;34m:\u001b[0m\u001b[0;34m\u001b[0m\u001b[0;34m\u001b[0m\u001b[0m\n\u001b[1;32m   1119\u001b[0m                 \u001b[0;32mreturn\u001b[0m\u001b[0;34m\u001b[0m\u001b[0;34m\u001b[0m\u001b[0m\n\u001b[0;32m-> 1120\u001b[0;31m         \u001b[0;32mwith\u001b[0m \u001b[0mh5py\u001b[0m\u001b[0;34m.\u001b[0m\u001b[0mFile\u001b[0m\u001b[0;34m(\u001b[0m\u001b[0mfilepath\u001b[0m\u001b[0;34m,\u001b[0m \u001b[0;34m'w'\u001b[0m\u001b[0;34m)\u001b[0m \u001b[0;32mas\u001b[0m \u001b[0mf\u001b[0m\u001b[0;34m:\u001b[0m\u001b[0;34m\u001b[0m\u001b[0;34m\u001b[0m\u001b[0m\n\u001b[0m\u001b[1;32m   1121\u001b[0m             \u001b[0msaving\u001b[0m\u001b[0;34m.\u001b[0m\u001b[0msave_weights_to_hdf5_group\u001b[0m\u001b[0;34m(\u001b[0m\u001b[0mf\u001b[0m\u001b[0;34m,\u001b[0m \u001b[0mself\u001b[0m\u001b[0;34m.\u001b[0m\u001b[0mlayers\u001b[0m\u001b[0;34m)\u001b[0m\u001b[0;34m\u001b[0m\u001b[0;34m\u001b[0m\u001b[0m\n\u001b[1;32m   1122\u001b[0m             \u001b[0mf\u001b[0m\u001b[0;34m.\u001b[0m\u001b[0mflush\u001b[0m\u001b[0;34m(\u001b[0m\u001b[0;34m)\u001b[0m\u001b[0;34m\u001b[0m\u001b[0;34m\u001b[0m\u001b[0m\n",
            "\u001b[0;32m/usr/local/lib/python3.6/dist-packages/h5py/_hl/files.py\u001b[0m in \u001b[0;36m__init__\u001b[0;34m(self, name, mode, driver, libver, userblock_size, swmr, **kwds)\u001b[0m\n\u001b[1;32m    310\u001b[0m             \u001b[0;32mwith\u001b[0m \u001b[0mphil\u001b[0m\u001b[0;34m:\u001b[0m\u001b[0;34m\u001b[0m\u001b[0;34m\u001b[0m\u001b[0m\n\u001b[1;32m    311\u001b[0m                 \u001b[0mfapl\u001b[0m \u001b[0;34m=\u001b[0m \u001b[0mmake_fapl\u001b[0m\u001b[0;34m(\u001b[0m\u001b[0mdriver\u001b[0m\u001b[0;34m,\u001b[0m \u001b[0mlibver\u001b[0m\u001b[0;34m,\u001b[0m \u001b[0;34m**\u001b[0m\u001b[0mkwds\u001b[0m\u001b[0;34m)\u001b[0m\u001b[0;34m\u001b[0m\u001b[0;34m\u001b[0m\u001b[0m\n\u001b[0;32m--> 312\u001b[0;31m                 \u001b[0mfid\u001b[0m \u001b[0;34m=\u001b[0m \u001b[0mmake_fid\u001b[0m\u001b[0;34m(\u001b[0m\u001b[0mname\u001b[0m\u001b[0;34m,\u001b[0m \u001b[0mmode\u001b[0m\u001b[0;34m,\u001b[0m \u001b[0muserblock_size\u001b[0m\u001b[0;34m,\u001b[0m \u001b[0mfapl\u001b[0m\u001b[0;34m,\u001b[0m \u001b[0mswmr\u001b[0m\u001b[0;34m=\u001b[0m\u001b[0mswmr\u001b[0m\u001b[0;34m)\u001b[0m\u001b[0;34m\u001b[0m\u001b[0;34m\u001b[0m\u001b[0m\n\u001b[0m\u001b[1;32m    313\u001b[0m \u001b[0;34m\u001b[0m\u001b[0m\n\u001b[1;32m    314\u001b[0m                 \u001b[0;32mif\u001b[0m \u001b[0mswmr_support\u001b[0m\u001b[0;34m:\u001b[0m\u001b[0;34m\u001b[0m\u001b[0;34m\u001b[0m\u001b[0m\n",
            "\u001b[0;32m/usr/local/lib/python3.6/dist-packages/h5py/_hl/files.py\u001b[0m in \u001b[0;36mmake_fid\u001b[0;34m(name, mode, userblock_size, fapl, fcpl, swmr)\u001b[0m\n\u001b[1;32m    146\u001b[0m         \u001b[0mfid\u001b[0m \u001b[0;34m=\u001b[0m \u001b[0mh5f\u001b[0m\u001b[0;34m.\u001b[0m\u001b[0mcreate\u001b[0m\u001b[0;34m(\u001b[0m\u001b[0mname\u001b[0m\u001b[0;34m,\u001b[0m \u001b[0mh5f\u001b[0m\u001b[0;34m.\u001b[0m\u001b[0mACC_EXCL\u001b[0m\u001b[0;34m,\u001b[0m \u001b[0mfapl\u001b[0m\u001b[0;34m=\u001b[0m\u001b[0mfapl\u001b[0m\u001b[0;34m,\u001b[0m \u001b[0mfcpl\u001b[0m\u001b[0;34m=\u001b[0m\u001b[0mfcpl\u001b[0m\u001b[0;34m)\u001b[0m\u001b[0;34m\u001b[0m\u001b[0;34m\u001b[0m\u001b[0m\n\u001b[1;32m    147\u001b[0m     \u001b[0;32melif\u001b[0m \u001b[0mmode\u001b[0m \u001b[0;34m==\u001b[0m \u001b[0;34m'w'\u001b[0m\u001b[0;34m:\u001b[0m\u001b[0;34m\u001b[0m\u001b[0;34m\u001b[0m\u001b[0m\n\u001b[0;32m--> 148\u001b[0;31m         \u001b[0mfid\u001b[0m \u001b[0;34m=\u001b[0m \u001b[0mh5f\u001b[0m\u001b[0;34m.\u001b[0m\u001b[0mcreate\u001b[0m\u001b[0;34m(\u001b[0m\u001b[0mname\u001b[0m\u001b[0;34m,\u001b[0m \u001b[0mh5f\u001b[0m\u001b[0;34m.\u001b[0m\u001b[0mACC_TRUNC\u001b[0m\u001b[0;34m,\u001b[0m \u001b[0mfapl\u001b[0m\u001b[0;34m=\u001b[0m\u001b[0mfapl\u001b[0m\u001b[0;34m,\u001b[0m \u001b[0mfcpl\u001b[0m\u001b[0;34m=\u001b[0m\u001b[0mfcpl\u001b[0m\u001b[0;34m)\u001b[0m\u001b[0;34m\u001b[0m\u001b[0;34m\u001b[0m\u001b[0m\n\u001b[0m\u001b[1;32m    149\u001b[0m     \u001b[0;32melif\u001b[0m \u001b[0mmode\u001b[0m \u001b[0;34m==\u001b[0m \u001b[0;34m'a'\u001b[0m\u001b[0;34m:\u001b[0m\u001b[0;34m\u001b[0m\u001b[0;34m\u001b[0m\u001b[0m\n\u001b[1;32m    150\u001b[0m         \u001b[0;31m# Open in append mode (read/write).\u001b[0m\u001b[0;34m\u001b[0m\u001b[0;34m\u001b[0m\u001b[0;34m\u001b[0m\u001b[0m\n",
            "\u001b[0;32mh5py/_objects.pyx\u001b[0m in \u001b[0;36mh5py._objects.with_phil.wrapper\u001b[0;34m()\u001b[0m\n",
            "\u001b[0;32mh5py/_objects.pyx\u001b[0m in \u001b[0;36mh5py._objects.with_phil.wrapper\u001b[0;34m()\u001b[0m\n",
            "\u001b[0;32mh5py/h5f.pyx\u001b[0m in \u001b[0;36mh5py.h5f.create\u001b[0;34m()\u001b[0m\n",
            "\u001b[0;31mOSError\u001b[0m: Unable to create file (unable to open file: name = '/content/gdrive/My Drive/CS282A_Project/models/2d_cnn_draft_model.h5', errno = 2, error message = 'No such file or directory', flags = 13, o_flags = 242)"
          ]
        }
      ]
    },
    {
      "cell_type": "code",
      "metadata": {
        "id": "PWg0UTs2Vxjs",
        "colab_type": "code",
        "outputId": "0b788182-6ecf-4eae-9d30-c526a5336c18",
        "colab": {
          "base_uri": "https://localhost:8080/",
          "height": 34
        }
      },
      "source": [
        "spec_100[train_idx:].shape"
      ],
      "execution_count": 0,
      "outputs": [
        {
          "output_type": "execute_result",
          "data": {
            "text/plain": [
              "(2324, 128, 128, 1)"
            ]
          },
          "metadata": {
            "tags": []
          },
          "execution_count": 97
        }
      ]
    },
    {
      "cell_type": "code",
      "metadata": {
        "id": "uHgNI4rPVxjz",
        "colab_type": "code",
        "outputId": "6acdbdc9-919b-48f0-8fd9-a3bc3778b076",
        "colab": {
          "base_uri": "https://localhost:8080/",
          "height": 122
        }
      },
      "source": [
        "from sklearn.metrics import f1_score\n",
        "\n",
        "pred = np.argmax(predictions,axis=1).flatten()\n",
        "gold = np.argmax(onehot_labels[train_idx:],axis=1).flatten()\n",
        "\n",
        "f1_score(gold, pred, average = None)\n"
      ],
      "execution_count": 0,
      "outputs": [
        {
          "output_type": "stream",
          "text": [
            "/usr/local/lib/python3.6/dist-packages/sklearn/metrics/classification.py:1143: UndefinedMetricWarning: F-score is ill-defined and being set to 0.0 in labels with no predicted samples.\n",
            "  'precision', 'predicted', average, warn_for)\n"
          ],
          "name": "stderr"
        },
        {
          "output_type": "execute_result",
          "data": {
            "text/plain": [
              "array([0.        , 0.05291005, 0.35887097, 0.        , 0.        ,\n",
              "       0.01574803, 0.        , 0.        , 0.48514851, 0.22771536,\n",
              "       0.13554633])"
            ]
          },
          "metadata": {
            "tags": []
          },
          "execution_count": 98
        }
      ]
    },
    {
      "cell_type": "code",
      "metadata": {
        "scrolled": true,
        "id": "wMbVjM1AVxj4",
        "colab_type": "code",
        "outputId": "abafcdc2-1992-4c80-8c15-8c27a7a63a53",
        "colab": {
          "base_uri": "https://localhost:8080/",
          "height": 34
        }
      },
      "source": [
        "f1_score(gold, pred, average = 'micro')"
      ],
      "execution_count": 0,
      "outputs": [
        {
          "output_type": "execute_result",
          "data": {
            "text/plain": [
              "0.22719449225473323"
            ]
          },
          "metadata": {
            "tags": []
          },
          "execution_count": 99
        }
      ]
    },
    {
      "cell_type": "code",
      "metadata": {
        "scrolled": false,
        "id": "2SjJZ5XEVxj_",
        "colab_type": "code",
        "outputId": "1cb78ada-cc44-497e-b88c-7c8fb38ccd3a",
        "colab": {
          "base_uri": "https://localhost:8080/",
          "height": 34
        }
      },
      "source": [
        "encoder.inverse_transform(np.array([0, 0, 0, 0, 0, 0, 0, 0, 0, 1, 0]).reshape(1,11))"
      ],
      "execution_count": 0,
      "outputs": [
        {
          "output_type": "execute_result",
          "data": {
            "text/plain": [
              "array([['solo']], dtype='<U12')"
            ]
          },
          "metadata": {
            "tags": []
          },
          "execution_count": 100
        }
      ]
    },
    {
      "cell_type": "markdown",
      "metadata": {
        "id": "r0Ro_4Q8VxkE",
        "colab_type": "text"
      },
      "source": [
        "### Fitting data into basic 2D CNN model with [128,4]"
      ]
    },
    {
      "cell_type": "code",
      "metadata": {
        "id": "r7opotfvVxkF",
        "colab_type": "code",
        "colab": {}
      },
      "source": [
        "\n",
        "m = Sequential()\n",
        "m.add(Conv2D(64, (1, 4), input_shape=(1, 128, 128)))\n",
        "m.add(Activation('relu'))\n",
        "m.add(MaxPooling2D(pool_size=(1,4)))\n",
        "\n",
        "m.add(Conv2D(32, (1, 4)))\n",
        "m.add(Activation('relu'))\n",
        "m.add(MaxPooling2D(pool_size=(1, 4)))\n",
        "\n",
        "m.add(Flatten())\n",
        "m.add(Dense(onehot_labels.shape[1], activation = 'softmax'))\n",
        "#model.add(Dropout(0.5))\n",
        "\n",
        "m.compile(loss='categorical_crossentropy',\n",
        "              optimizer='adam',\n",
        "              metrics=['accuracy'])"
      ],
      "execution_count": 0,
      "outputs": []
    },
    {
      "cell_type": "code",
      "metadata": {
        "scrolled": false,
        "id": "egq10DSnVxkN",
        "colab_type": "code",
        "outputId": "794ed175-93d6-4c0d-b6c3-9449f9f253b8",
        "colab": {}
      },
      "source": [
        "m.summary()"
      ],
      "execution_count": 0,
      "outputs": [
        {
          "output_type": "stream",
          "text": [
            "_________________________________________________________________\n",
            "Layer (type)                 Output Shape              Param #   \n",
            "=================================================================\n",
            "conv2d_15 (Conv2D)           (None, 1, 125, 64)        32832     \n",
            "_________________________________________________________________\n",
            "activation_15 (Activation)   (None, 1, 125, 64)        0         \n",
            "_________________________________________________________________\n",
            "max_pooling2d_13 (MaxPooling (None, 1, 31, 64)         0         \n",
            "_________________________________________________________________\n",
            "conv2d_16 (Conv2D)           (None, 1, 28, 32)         8224      \n",
            "_________________________________________________________________\n",
            "activation_16 (Activation)   (None, 1, 28, 32)         0         \n",
            "_________________________________________________________________\n",
            "max_pooling2d_14 (MaxPooling (None, 1, 7, 32)          0         \n",
            "_________________________________________________________________\n",
            "flatten_11 (Flatten)         (None, 224)               0         \n",
            "_________________________________________________________________\n",
            "dense_15 (Dense)             (None, 11)                2475      \n",
            "=================================================================\n",
            "Total params: 43,531\n",
            "Trainable params: 43,531\n",
            "Non-trainable params: 0\n",
            "_________________________________________________________________\n"
          ],
          "name": "stdout"
        }
      ]
    },
    {
      "cell_type": "code",
      "metadata": {
        "id": "feIa7xXKVxkS",
        "colab_type": "code",
        "outputId": "22d2e1bc-711b-4169-81de-3ee9b5951ca0",
        "colab": {}
      },
      "source": [
        "m.fit(spec[:41126],onehot_labels[:41126], validation_data = (spec[41126:], onehot_labels[41126:]), epochs = 1\\\n",
        "         ,batch_size = 16)"
      ],
      "execution_count": 0,
      "outputs": [
        {
          "output_type": "stream",
          "text": [
            "Train on 41126 samples, validate on 10282 samples\n",
            "Epoch 1/1\n",
            "41126/41126 [==============================] - 258s 6ms/step - loss: 2.2982 - acc: 0.2643 - val_loss: 1.9879 - val_acc: 0.2697\n"
          ],
          "name": "stdout"
        },
        {
          "output_type": "execute_result",
          "data": {
            "text/plain": [
              "<keras.callbacks.History at 0x11d75ba90>"
            ]
          },
          "metadata": {
            "tags": []
          },
          "execution_count": 186
        }
      ]
    },
    {
      "cell_type": "code",
      "metadata": {
        "id": "T3eEcGAerCog",
        "colab_type": "code",
        "colab": {}
      },
      "source": [
        ""
      ],
      "execution_count": 0,
      "outputs": []
    },
    {
      "cell_type": "markdown",
      "metadata": {
        "id": "KoQ0ExlvVxka",
        "colab_type": "text"
      },
      "source": [
        "### Fitting data into 1D CNN model + BatchNorm + Dropout"
      ]
    },
    {
      "cell_type": "code",
      "metadata": {
        "id": "du2EYMtqVxkc",
        "colab_type": "code",
        "colab": {}
      },
      "source": [
        "spec = spec.reshape(51408,128,128)"
      ],
      "execution_count": 0,
      "outputs": []
    },
    {
      "cell_type": "code",
      "metadata": {
        "id": "ofjuq_6cVxkg",
        "colab_type": "code",
        "colab": {}
      },
      "source": [
        "from keras.layers import Conv1D, MaxPooling1D\n",
        "from keras.layers.normalization import BatchNormalization\n",
        "\n",
        "f_size = 5\n",
        "p_size = 2\n",
        "\n",
        "\n",
        "model2 = Sequential()\n",
        "model2.add(Conv1D(64, f_size, input_shape=(128, 128)))\n",
        "model2.add(BatchNormalization())\n",
        "model2.add(Activation('relu'))\n",
        "model2.add(MaxPooling1D(p_size))\n",
        "model2.add(Dropout(rate = 0.2))\n",
        "\n",
        "\n",
        "model2.add(Conv1D(32, f_size))\n",
        "model2.add(BatchNormalization())\n",
        "model2.add(Activation('relu'))\n",
        "model2.add(MaxPooling1D(p_size))\n",
        "model2.add(Dropout(rate = 0.2))\n",
        "\n",
        "model2.add(Flatten())\n",
        "model2.add(Dense(onehot_labels.shape[1], activation = 'softmax'))\n",
        "\n",
        "model2.compile(loss='categorical_crossentropy',\n",
        "              optimizer='adam',\n",
        "              metrics=['accuracy'])"
      ],
      "execution_count": 0,
      "outputs": []
    },
    {
      "cell_type": "code",
      "metadata": {
        "id": "xfWxjljsVxkk",
        "colab_type": "code",
        "colab": {}
      },
      "source": [
        "spec_t = spec.reshape(51408,128,128).transpose([0, 2, 1])"
      ],
      "execution_count": 0,
      "outputs": []
    },
    {
      "cell_type": "code",
      "metadata": {
        "scrolled": false,
        "id": "Q5fJ0A9WVxkp",
        "colab_type": "code",
        "outputId": "88d21584-8a15-406f-94b8-3452a47b0eb3",
        "colab": {}
      },
      "source": [
        "model2.fit(spec_t[:41126],onehot_labels[:41126], validation_data = (spec_t[41126:], onehot_labels[41126:]), epochs = 1\\\n",
        "         ,batch_size = 16)"
      ],
      "execution_count": 0,
      "outputs": [
        {
          "output_type": "stream",
          "text": [
            "Train on 41126 samples, validate on 10282 samples\n",
            "Epoch 1/1\n",
            "41126/41126 [==============================] - 272s 7ms/step - loss: 2.0280 - acc: 0.2924 - val_loss: 2.0030 - val_acc: 0.3159\n"
          ],
          "name": "stdout"
        },
        {
          "output_type": "execute_result",
          "data": {
            "text/plain": [
              "<keras.callbacks.History at 0x11efdc438>"
            ]
          },
          "metadata": {
            "tags": []
          },
          "execution_count": 162
        }
      ]
    },
    {
      "cell_type": "code",
      "metadata": {
        "id": "-mdqUSrjVxkt",
        "colab_type": "code",
        "outputId": "6bde899c-543c-4b60-81d6-8f37f6cb06fe",
        "colab": {}
      },
      "source": [
        "predictions2 = model2.predict(spec[41126:]) \n",
        "pred2 = np.argmax(predictions2,axis=1).flatten()\n",
        "gold2 = np.argmax(onehot_labels[41126:],axis=1).flatten()\n",
        "\n",
        "f1_score(gold2, pred2, average = None)"
      ],
      "execution_count": 0,
      "outputs": [
        {
          "output_type": "stream",
          "text": [
            "/anaconda2/envs/cs28/lib/python3.7/site-packages/sklearn/metrics/classification.py:1143: UndefinedMetricWarning: F-score is ill-defined and being set to 0.0 in labels with no predicted samples.\n",
            "  'precision', 'predicted', average, warn_for)\n"
          ],
          "name": "stderr"
        },
        {
          "output_type": "execute_result",
          "data": {
            "text/plain": [
              "array([0.        , 0.12553648, 0.        , 0.        , 0.        ,\n",
              "       0.00476758, 0.44605309, 0.        , 0.        , 0.46983492,\n",
              "       0.17055988])"
            ]
          },
          "metadata": {
            "tags": []
          },
          "execution_count": 66
        }
      ]
    },
    {
      "cell_type": "code",
      "metadata": {
        "id": "6pF8B4nAVxkx",
        "colab_type": "code",
        "outputId": "9680c1ce-b20d-4253-9cb9-b9faa94897a7",
        "colab": {}
      },
      "source": [
        "f1_score(gold2, pred2, average = 'micro')"
      ],
      "execution_count": 0,
      "outputs": [
        {
          "output_type": "execute_result",
          "data": {
            "text/plain": [
              "0.3252285547558841"
            ]
          },
          "metadata": {
            "tags": []
          },
          "execution_count": 70
        }
      ]
    },
    {
      "cell_type": "markdown",
      "metadata": {
        "id": "JPWh_4ZxVxk0",
        "colab_type": "text"
      },
      "source": [
        "### Fitting data into 2D CNN model + TimeDistributed Layer"
      ]
    },
    {
      "cell_type": "code",
      "metadata": {
        "id": "ONkOAwUhVxk0",
        "colab_type": "code",
        "colab": {}
      },
      "source": [
        "from keras.layers import TimeDistributed\n",
        "from keras.layers import LSTM\n",
        "\n",
        "\n",
        "\n",
        "model3 = Sequential()\n",
        "model3.add(TimeDistributed(Conv2D(64, (3, 3), activation = 'relu', \\\n",
        "        data_format='channels_first'), input_shape=(7, 1, 128, 128)))\n",
        "model3.add(TimeDistributed(MaxPooling2D(pool_size=(2, 2))))\n",
        "model3.add(TimeDistributed(BatchNormalization()))\n",
        "\n",
        "model3.add(TimeDistributed(Conv2D(32, (3,3), activation = 'relu')))\n",
        "model3.add(TimeDistributed(MaxPooling2D(pool_size=(2, 2))))\n",
        "model3.add(TimeDistributed(BatchNormalization()))\n",
        "\n",
        "model3.add(TimeDistributed(Flatten()))\n",
        "model3.add(LSTM(256, return_sequences  = True))\n",
        "model3.add(Dense(onehot_labels.shape[2], activation = 'softmax'))\n",
        "\n",
        "model3.compile(loss='categorical_crossentropy',\n",
        "              optimizer='adam',\n",
        "              metrics=['accuracy'])\n"
      ],
      "execution_count": 0,
      "outputs": []
    },
    {
      "cell_type": "code",
      "metadata": {
        "id": "KFqaCYe5Vxk3",
        "colab_type": "code",
        "outputId": "9f38a4b6-95fd-496f-fcfa-3a6caced3544",
        "colab": {}
      },
      "source": [
        "spec.shape"
      ],
      "execution_count": 0,
      "outputs": [
        {
          "output_type": "execute_result",
          "data": {
            "text/plain": [
              "(7344, 7, 1, 128, 128)"
            ]
          },
          "metadata": {
            "tags": []
          },
          "execution_count": 277
        }
      ]
    },
    {
      "cell_type": "code",
      "metadata": {
        "id": "V8jg3XHwVxlB",
        "colab_type": "code",
        "outputId": "bf4ece0f-00ea-4732-81db-04f22f662904",
        "colab": {}
      },
      "source": [
        "spec = spec.reshape(7344,7,1,128,128)\n",
        "spec.shape"
      ],
      "execution_count": 0,
      "outputs": [
        {
          "output_type": "execute_result",
          "data": {
            "text/plain": [
              "(7344, 7, 1, 128, 128)"
            ]
          },
          "metadata": {
            "tags": []
          },
          "execution_count": 278
        }
      ]
    },
    {
      "cell_type": "code",
      "metadata": {
        "id": "Hrffn5QoVxlG",
        "colab_type": "code",
        "outputId": "9c3e011d-bbf5-4688-f9d2-174d43f34593",
        "colab": {}
      },
      "source": [
        "onehot_labels = onehot_labels.reshape(7344,7,11)\n",
        "onehot_labels.shape"
      ],
      "execution_count": 0,
      "outputs": [
        {
          "output_type": "execute_result",
          "data": {
            "text/plain": [
              "(7344, 7, 11)"
            ]
          },
          "metadata": {
            "tags": []
          },
          "execution_count": 279
        }
      ]
    },
    {
      "cell_type": "code",
      "metadata": {
        "scrolled": true,
        "id": "dljcqGqdVxlN",
        "colab_type": "code",
        "outputId": "90b55cf6-3120-4709-fd40-90f49285dbd4",
        "colab": {}
      },
      "source": [
        "model3.fit(spec[:6000],onehot_labels[:6000], validation_data = (spec[6000:], onehot_labels[6000:]), epochs = 5\\\n",
        "         ,batch_size = 16)\n",
        "model3.save('cnn_lstm.h5')\n"
      ],
      "execution_count": 0,
      "outputs": [
        {
          "output_type": "stream",
          "text": [
            "Train on 6000 samples, validate on 1344 samples\n",
            "Epoch 1/5\n",
            "6000/6000 [==============================] - 3174s 529ms/step - loss: 1.9714 - acc: 0.3090 - val_loss: 2.0470 - val_acc: 0.2665\n",
            "Epoch 2/5\n",
            "6000/6000 [==============================] - 3034s 506ms/step - loss: 1.9159 - acc: 0.3286 - val_loss: 2.0660 - val_acc: 0.2761\n",
            "Epoch 3/5\n",
            "6000/6000 [==============================] - 2995s 499ms/step - loss: 1.8905 - acc: 0.3427 - val_loss: 2.0089 - val_acc: 0.3142\n",
            "Epoch 4/5\n",
            "6000/6000 [==============================] - 2954s 492ms/step - loss: 1.8521 - acc: 0.3577 - val_loss: 1.9809 - val_acc: 0.3337\n",
            "Epoch 5/5\n",
            "6000/6000 [==============================] - 2930s 488ms/step - loss: 1.8244 - acc: 0.3729 - val_loss: 1.9556 - val_acc: 0.3485\n"
          ],
          "name": "stdout"
        }
      ]
    },
    {
      "cell_type": "code",
      "metadata": {
        "scrolled": true,
        "id": "psSOQgVbVxlU",
        "colab_type": "code",
        "colab": {}
      },
      "source": [
        "with open('purple_rain.p', 'rb') as f:\n",
        "    rain = pickle.load(f)\n",
        "rain = np.asarray(rain).reshape(26,7,1,128,128)"
      ],
      "execution_count": 0,
      "outputs": []
    },
    {
      "cell_type": "code",
      "metadata": {
        "scrolled": true,
        "id": "_KMzsTOtVxla",
        "colab_type": "code",
        "outputId": "48cd7dea-e234-447d-b7a9-86a28e88b7a5",
        "colab": {}
      },
      "source": [
        "pred = model3.predict(rain)\n",
        "pred.shape"
      ],
      "execution_count": 0,
      "outputs": [
        {
          "output_type": "execute_result",
          "data": {
            "text/plain": [
              "(26, 7, 11)"
            ]
          },
          "metadata": {
            "tags": []
          },
          "execution_count": 296
        }
      ]
    },
    {
      "cell_type": "code",
      "metadata": {
        "scrolled": true,
        "id": "T3-XxoGPVxlf",
        "colab_type": "code",
        "outputId": "e389a96e-a05b-4cc9-fd88-20601a157e79",
        "colab": {}
      },
      "source": [
        "encoder.inverse_transform(pred.reshape(26*7,11))"
      ],
      "execution_count": 0,
      "outputs": [
        {
          "output_type": "execute_result",
          "data": {
            "text/plain": [
              "array([['verse'],\n",
              "       ['verse'],\n",
              "       ['verse'],\n",
              "       ['verse'],\n",
              "       ['solo'],\n",
              "       ['solo'],\n",
              "       ['solo'],\n",
              "       ['verse'],\n",
              "       ['solo'],\n",
              "       ['solo'],\n",
              "       ['solo'],\n",
              "       ['solo'],\n",
              "       ['solo'],\n",
              "       ['solo'],\n",
              "       ['solo'],\n",
              "       ['chorus'],\n",
              "       ['verse'],\n",
              "       ['verse'],\n",
              "       ['solo'],\n",
              "       ['verse'],\n",
              "       ['verse'],\n",
              "       ['solo'],\n",
              "       ['verse'],\n",
              "       ['solo'],\n",
              "       ['solo'],\n",
              "       ['solo'],\n",
              "       ['solo'],\n",
              "       ['chorus'],\n",
              "       ['chorus'],\n",
              "       ['solo'],\n",
              "       ['solo'],\n",
              "       ['solo'],\n",
              "       ['solo'],\n",
              "       ['chorus'],\n",
              "       ['solo'],\n",
              "       ['solo'],\n",
              "       ['solo'],\n",
              "       ['solo'],\n",
              "       ['solo'],\n",
              "       ['chorus'],\n",
              "       ['chorus'],\n",
              "       ['chorus'],\n",
              "       ['solo'],\n",
              "       ['chorus'],\n",
              "       ['solo'],\n",
              "       ['solo'],\n",
              "       ['chorus'],\n",
              "       ['solo'],\n",
              "       ['solo'],\n",
              "       ['solo'],\n",
              "       ['solo'],\n",
              "       ['solo'],\n",
              "       ['solo'],\n",
              "       ['solo'],\n",
              "       ['solo'],\n",
              "       ['solo'],\n",
              "       ['solo'],\n",
              "       ['chorus'],\n",
              "       ['solo'],\n",
              "       ['solo'],\n",
              "       ['solo'],\n",
              "       ['solo'],\n",
              "       ['chorus'],\n",
              "       ['chorus'],\n",
              "       ['chorus'],\n",
              "       ['verse'],\n",
              "       ['solo'],\n",
              "       ['verse'],\n",
              "       ['chorus'],\n",
              "       ['solo'],\n",
              "       ['chorus'],\n",
              "       ['chorus'],\n",
              "       ['solo'],\n",
              "       ['solo'],\n",
              "       ['solo'],\n",
              "       ['chorus'],\n",
              "       ['solo'],\n",
              "       ['solo'],\n",
              "       ['solo'],\n",
              "       ['solo'],\n",
              "       ['solo'],\n",
              "       ['solo'],\n",
              "       ['solo'],\n",
              "       ['solo'],\n",
              "       ['solo'],\n",
              "       ['solo'],\n",
              "       ['solo'],\n",
              "       ['chorus'],\n",
              "       ['solo'],\n",
              "       ['solo'],\n",
              "       ['solo'],\n",
              "       ['solo'],\n",
              "       ['solo'],\n",
              "       ['solo'],\n",
              "       ['solo'],\n",
              "       ['solo'],\n",
              "       ['solo'],\n",
              "       ['solo'],\n",
              "       ['solo'],\n",
              "       ['solo'],\n",
              "       ['solo'],\n",
              "       ['solo'],\n",
              "       ['solo'],\n",
              "       ['solo'],\n",
              "       ['solo'],\n",
              "       ['solo'],\n",
              "       ['chorus'],\n",
              "       ['chorus'],\n",
              "       ['solo'],\n",
              "       ['chorus'],\n",
              "       ['solo'],\n",
              "       ['solo'],\n",
              "       ['chorus'],\n",
              "       ['solo'],\n",
              "       ['solo'],\n",
              "       ['chorus'],\n",
              "       ['solo'],\n",
              "       ['solo'],\n",
              "       ['solo'],\n",
              "       ['chorus'],\n",
              "       ['solo'],\n",
              "       ['chorus'],\n",
              "       ['solo'],\n",
              "       ['solo'],\n",
              "       ['solo'],\n",
              "       ['solo'],\n",
              "       ['solo'],\n",
              "       ['solo'],\n",
              "       ['solo'],\n",
              "       ['solo'],\n",
              "       ['solo'],\n",
              "       ['solo'],\n",
              "       ['solo'],\n",
              "       ['solo'],\n",
              "       ['solo'],\n",
              "       ['chorus'],\n",
              "       ['solo'],\n",
              "       ['no_function'],\n",
              "       ['solo'],\n",
              "       ['solo'],\n",
              "       ['no_function'],\n",
              "       ['no_function'],\n",
              "       ['solo'],\n",
              "       ['verse'],\n",
              "       ['solo'],\n",
              "       ['solo'],\n",
              "       ['solo'],\n",
              "       ['solo'],\n",
              "       ['solo'],\n",
              "       ['solo'],\n",
              "       ['solo'],\n",
              "       ['solo'],\n",
              "       ['solo'],\n",
              "       ['solo'],\n",
              "       ['solo'],\n",
              "       ['solo'],\n",
              "       ['solo'],\n",
              "       ['solo'],\n",
              "       ['solo'],\n",
              "       ['solo'],\n",
              "       ['solo'],\n",
              "       ['solo'],\n",
              "       ['solo'],\n",
              "       ['solo'],\n",
              "       ['solo'],\n",
              "       ['solo'],\n",
              "       ['solo'],\n",
              "       ['solo'],\n",
              "       ['solo'],\n",
              "       ['solo'],\n",
              "       ['solo'],\n",
              "       ['solo'],\n",
              "       ['solo'],\n",
              "       ['silence'],\n",
              "       ['silence'],\n",
              "       ['no_function'],\n",
              "       ['no_function'],\n",
              "       ['silence'],\n",
              "       ['silence'],\n",
              "       ['silence'],\n",
              "       ['silence'],\n",
              "       ['silence']], dtype='<U12')"
            ]
          },
          "metadata": {
            "tags": []
          },
          "execution_count": 299
        }
      ]
    },
    {
      "cell_type": "code",
      "metadata": {
        "id": "hTkXK8P8Vxli",
        "colab_type": "code",
        "outputId": "f11fb74f-4a20-4589-d490-64336e0d12d7",
        "colab": {}
      },
      "source": [
        "i = model3.predict(spec[6000:])\n",
        "i.shape"
      ],
      "execution_count": 0,
      "outputs": [
        {
          "output_type": "execute_result",
          "data": {
            "text/plain": [
              "(1344, 7, 11)"
            ]
          },
          "metadata": {
            "tags": []
          },
          "execution_count": 342
        }
      ]
    },
    {
      "cell_type": "code",
      "metadata": {
        "id": "A_xiBG4QVxll",
        "colab_type": "code",
        "outputId": "13060e46-855b-4caf-cc00-e9904420fd28",
        "colab": {}
      },
      "source": [
        "1344* 7"
      ],
      "execution_count": 0,
      "outputs": [
        {
          "output_type": "execute_result",
          "data": {
            "text/plain": [
              "9408"
            ]
          },
          "metadata": {
            "tags": []
          },
          "execution_count": 343
        }
      ]
    },
    {
      "cell_type": "code",
      "metadata": {
        "scrolled": true,
        "id": "gwgJuZr7Vxlp",
        "colab_type": "code",
        "outputId": "2f6e9853-cdca-4e55-9572-669ff1b0d0d0",
        "colab": {}
      },
      "source": [
        "k = np.argmax(i.reshape(9408,11), axis = 1)\n",
        "k = OneHotEncoder(sparse = False).fit_transform(k.reshape(-1,1))"
      ],
      "execution_count": 0,
      "outputs": [
        {
          "output_type": "stream",
          "text": [
            "/anaconda2/envs/cs28/lib/python3.7/site-packages/sklearn/preprocessing/_encoders.py:368: FutureWarning: The handling of integer data will change in version 0.22. Currently, the categories are determined based on the range [0, max(values)], while in the future they will be determined based on the unique values.\n",
            "If you want the future behaviour and silence this warning, you can specify \"categories='auto'\".\n",
            "In case you used a LabelEncoder before this OneHotEncoder to convert the categories to integers, then you can now use the OneHotEncoder directly.\n",
            "  warnings.warn(msg, FutureWarning)\n"
          ],
          "name": "stderr"
        }
      ]
    },
    {
      "cell_type": "code",
      "metadata": {
        "scrolled": true,
        "id": "4I5qBixCVxlw",
        "colab_type": "code",
        "outputId": "4d50f746-eeb4-4535-aeaf-25eeeedd50b8",
        "colab": {}
      },
      "source": [
        "gold = onehot_labels[6000:].reshape(9408,11)\n",
        "\n",
        "f1_score(gold, k, average = None)"
      ],
      "execution_count": 0,
      "outputs": [
        {
          "output_type": "execute_result",
          "data": {
            "text/plain": [
              "array([0.        , 0.20017873, 0.        , 0.        , 0.01617251,\n",
              "       0.        , 0.50726141, 0.00481928, 0.68410463, 0.47247104,\n",
              "       0.25583567])"
            ]
          },
          "metadata": {
            "tags": []
          },
          "execution_count": 349
        }
      ]
    },
    {
      "cell_type": "code",
      "metadata": {
        "id": "t5S46hE7Vxlz",
        "colab_type": "code",
        "colab": {}
      },
      "source": [
        "k = encoder.inverse_transform(k)\n",
        "gold = encoder.inverse_transform(gold)"
      ],
      "execution_count": 0,
      "outputs": []
    },
    {
      "cell_type": "code",
      "metadata": {
        "id": "jsFBrrdjVxl1",
        "colab_type": "code",
        "outputId": "d889e52c-7503-4d36-e0e6-380edbe651eb",
        "colab": {}
      },
      "source": [
        "len(k)"
      ],
      "execution_count": 0,
      "outputs": [
        {
          "output_type": "execute_result",
          "data": {
            "text/plain": [
              "9408"
            ]
          },
          "metadata": {
            "tags": []
          },
          "execution_count": 367
        }
      ]
    },
    {
      "cell_type": "code",
      "metadata": {
        "id": "Zfei7sYcVxl4",
        "colab_type": "code",
        "colab": {}
      },
      "source": [
        "#from sklearn.metrics import multilabel_confusion_matrix\n",
        "#mx = multilabel_confusion_matrix(ground_truth, pred, labels = classes)\n",
        "import pandas as pd\n",
        "\n",
        "classes = ['instrumental', 'interlude', 'bridge', 'chorus', 'verse', \n",
        "           'intro', 'silence', 'no_function', 'outro', 'misc', \n",
        "           'solo']\n",
        "\n",
        "def compute_confusion_matrix(pred, label, classes):\n",
        "  evaluation = {}\n",
        "  for c1 in classes:\n",
        "    for c2 in classes:\n",
        "      if c1 not in evaluation:\n",
        "        evaluation[c1] = { \n",
        "        'TP': 0,\n",
        "        'FP': {},\n",
        "        'FN': {}\n",
        "        }\n",
        "      if c1 != c2:\n",
        "        evaluation[c1]['FP'][c2] = 0\n",
        "        evaluation[c1]['FN'][c2] = 0\n",
        "        \n",
        "  for l, p in zip(label, pred):\n",
        "    l = l[0]\n",
        "    p = p[0]\n",
        "\n",
        "    if l == p:\n",
        "      evaluation[l]['TP'] += 1\n",
        "    else:\n",
        "      ## if missed the label\n",
        "      \n",
        "      evaluation[l]['FN'][p] += 1 \n",
        "\n",
        "      evaluation[p]['FP'][l] += 1\n",
        "\n",
        "  num_class = len(evaluation)\n",
        "  confusion_mx = np.zeros((num_class, num_class))\n",
        "  for i, key in enumerate(evaluation.keys()):\n",
        "    for j, key2 in enumerate(evaluation.keys()):\n",
        "      if i == j:\n",
        "        confusion_mx[i,j] = evaluation[key]['TP']\n",
        "      elif i < j:\n",
        "        confusion_mx[i,j] = evaluation[key]['FN'][key2]\n",
        "      else:\n",
        "        \n",
        "        confusion_mx[i,j] = evaluation[key2]['FP'][key]\n",
        "\n",
        "  recall = np.diag(confusion_mx) / np.sum(confusion_mx, axis = 1)\n",
        "  precision = np.diag(confusion_mx) / np.sum(confusion_mx, axis = 0)\n",
        "  return confusion_mx, recall, precision\n",
        "\n",
        "\n"
      ],
      "execution_count": 0,
      "outputs": []
    },
    {
      "cell_type": "code",
      "metadata": {
        "id": "m1ZMpWSrVxl5",
        "colab_type": "code",
        "colab": {}
      },
      "source": [
        "cm, r, p = compute_confusion_matrix(k, gold, classes)"
      ],
      "execution_count": 0,
      "outputs": []
    },
    {
      "cell_type": "code",
      "metadata": {
        "id": "_deBHr6tVxl8",
        "colab_type": "code",
        "outputId": "50eda26b-1632-4266-d4b9-aa0057d2260c",
        "colab": {}
      },
      "source": [
        "cm_df.shape"
      ],
      "execution_count": 0,
      "outputs": [
        {
          "output_type": "execute_result",
          "data": {
            "text/plain": [
              "(11, 11)"
            ]
          },
          "metadata": {
            "tags": []
          },
          "execution_count": 373
        }
      ]
    },
    {
      "cell_type": "code",
      "metadata": {
        "id": "KpQqpQVOVxmC",
        "colab_type": "code",
        "outputId": "bc57cb94-3e5a-4be8-c18c-97c80ddd2ace",
        "colab": {}
      },
      "source": [
        "\n",
        "cm_df = pd.DataFrame(cm)\n",
        "normalize = True\n",
        "if normalize:\n",
        "    cm_df2 = cm_df.astype('float') / cm_df.sum(axis=1)#[:, np.newaxis]\n",
        "    print(\"Normalized confusion matrix\")\n",
        "    \n",
        "plt.figure(figsize=(12,10))\n",
        "plt.imshow(cm_df2, interpolation='nearest', cmap=plt.cm.Blues)\n",
        "plt.title('Confusion matrix')\n",
        "plt.colorbar()\n",
        "tick_marks = np.arange(len(classes))\n",
        "plt.xticks(tick_marks, classes, rotation=60)\n",
        "plt.yticks(tick_marks, classes)\n",
        "plt.ylabel('True label')\n",
        "plt.xlabel('Predicted label')\n",
        "plt.show()"
      ],
      "execution_count": 0,
      "outputs": [
        {
          "output_type": "stream",
          "text": [
            "Normalized confusion matrix\n"
          ],
          "name": "stdout"
        },
        {
          "output_type": "display_data",
          "data": {
            "image/png": "[encoded data removed]",
            "text/plain": [
              "<Figure size 864x720 with 2 Axes>"
            ]
          },
          "metadata": {
            "tags": [],
            "needs_background": "light"
          }
        }
      ]
    },
    {
      "cell_type": "markdown",
      "metadata": {
        "id": "ntDTVYj8VxmH",
        "colab_type": "text"
      },
      "source": [
        "### Attention-based Model"
      ]
    },
    {
      "cell_type": "code",
      "metadata": {
        "id": "ahyRQhp1VxmH",
        "colab_type": "code",
        "colab": {}
      },
      "source": [
        "%reload_ext autoreload\n",
        "%autoreload 2\n",
        "\n",
        "from attention_2d import *"
      ],
      "execution_count": 0,
      "outputs": []
    },
    {
      "cell_type": "code",
      "metadata": {
        "scrolled": false,
        "id": "Gfpmyl-aVxmL",
        "colab_type": "code",
        "outputId": "75662275-8396-4fe2-aa98-e300a54e94e5",
        "colab": {}
      },
      "source": [
        "cnn_config = {'cnn_regularization': 0.01,\n",
        "\t\t\t  'fc_regularization': 0.01}\n",
        "\n",
        "att_config = {'num_class': 11,\n",
        "\t\t\t  'att_input_dim': 64,\n",
        "\t\t\t  'sequence_len':7\n",
        "\t\t\t\t}\n",
        "\n",
        "train_config = {}\n",
        "\n",
        "m = CNN_Attention_Model(cnn_config, att_config, train_config)\n",
        "built = m.build_model()\n",
        "built.summary()"
      ],
      "execution_count": 0,
      "outputs": [
        {
          "output_type": "stream",
          "text": [
            "##### Tensor(\"input_6:0\", shape=(?, 1, 128, 128), dtype=float32)\n",
            "##### Tensor(\"max_pooling2d_42/transpose_1:0\", shape=(?, 32, 30, 30), dtype=float32)\n",
            "#### Tensor(\"flatten_25/Reshape:0\", shape=(?, ?), dtype=float32)\n",
            "#### Tensor(\"dense_29/Relu:0\", shape=(?, 64), dtype=float32)\n",
            "#### Tensor(\"lambda_8/Reshape:0\", shape=(?, 7, 64), dtype=float32)\n",
            "### att output: Tensor(\"seq_self_attention_6/MatMul_3:0\", shape=(?, ?, 64), dtype=float32)\n",
            "#### output: Tensor(\"dense_30/add:0\", shape=(?, 7, 11), dtype=float32)\n",
            "#### folded output: Tensor(\"lambda_9/Reshape:0\", shape=(?, 11), dtype=float32)\n",
            "_________________________________________________________________\n",
            "Layer (type)                 Output Shape              Param #   \n",
            "=================================================================\n",
            "input_6 (InputLayer)         (None, 1, 128, 128)       0         \n",
            "_________________________________________________________________\n",
            "conv2d_43 (Conv2D)           (None, 64, 128, 128)      1088      \n",
            "_________________________________________________________________\n",
            "max_pooling2d_41 (MaxPooling (None, 64, 63, 63)        0         \n",
            "_________________________________________________________________\n",
            "conv2d_44 (Conv2D)           (None, 32, 63, 63)        32800     \n",
            "_________________________________________________________________\n",
            "max_pooling2d_42 (MaxPooling (None, 32, 30, 30)        0         \n",
            "_________________________________________________________________\n",
            "flatten_25 (Flatten)         (None, 28800)             0         \n",
            "_________________________________________________________________\n",
            "dense_29 (Dense)             (None, 64)                1843264   \n",
            "_________________________________________________________________\n",
            "lambda_8 (Lambda)            (None, 7, 64)             0         \n",
            "_________________________________________________________________\n",
            "seq_self_attention_6 (SeqSel (None, 7, 64)             4161      \n",
            "_________________________________________________________________\n",
            "dense_30 (Dense)             (None, 7, 11)             715       \n",
            "_________________________________________________________________\n",
            "lambda_9 (Lambda)            (None, 11)                0         \n",
            "=================================================================\n",
            "Total params: 1,882,028\n",
            "Trainable params: 1,882,028\n",
            "Non-trainable params: 0\n",
            "_________________________________________________________________\n"
          ],
          "name": "stdout"
        }
      ]
    },
    {
      "cell_type": "code",
      "metadata": {
        "id": "El9M2MtKVxmN",
        "colab_type": "code",
        "outputId": "feff31d9-dccc-4d42-e0de-039e015aa683",
        "colab": {}
      },
      "source": [
        "spec = spec.reshape(51408, 1, 128, 128)\n",
        "onehot_labels, encoder = onehot_reshape_labels(labels)\n",
        "onehot_labels.shape"
      ],
      "execution_count": 0,
      "outputs": [
        {
          "output_type": "execute_result",
          "data": {
            "text/plain": [
              "(7344, 7, 11)"
            ]
          },
          "metadata": {
            "tags": []
          },
          "execution_count": 242
        }
      ]
    },
    {
      "cell_type": "code",
      "metadata": {
        "id": "S96leE-3VxmT",
        "colab_type": "code",
        "outputId": "9769d616-c0f7-4576-eb59-7a5e680470ce",
        "colab": {}
      },
      "source": [
        "onehot_labels = onehot_labels.reshape(-1,11)\n",
        "onehot_labels.shape"
      ],
      "execution_count": 0,
      "outputs": [
        {
          "output_type": "execute_result",
          "data": {
            "text/plain": [
              "(51408, 11)"
            ]
          },
          "metadata": {
            "tags": []
          },
          "execution_count": 243
        }
      ]
    },
    {
      "cell_type": "code",
      "metadata": {
        "id": "cPmLev9aVxmX",
        "colab_type": "code",
        "outputId": "186a7f3a-a83a-49f9-ba60-fc2358fb4272",
        "colab": {}
      },
      "source": [
        "built.fit(spec[:41125],onehot_labels[:41125], validation_data = (spec[41125:], onehot_labels[41125:]), epochs = 1\\\n",
        "         ,batch_size = 16*7)"
      ],
      "execution_count": 0,
      "outputs": [
        {
          "output_type": "stream",
          "text": [
            "Train on 41125 samples, validate on 10283 samples\n",
            "Epoch 1/1\n",
            " 1680/41125 [>.............................] - ETA: 1:14:30 - loss: 8.5820 - categorical_accuracy: 0.1940"
          ],
          "name": "stdout"
        },
        {
          "output_type": "error",
          "ename": "KeyboardInterrupt",
          "evalue": "",
          "traceback": [
            "\u001b[0;31m---------------------------------------------------------------------------\u001b[0m",
            "\u001b[0;31mKeyboardInterrupt\u001b[0m                         Traceback (most recent call last)",
            "\u001b[0;32m<ipython-input-244-abfa67bd8c5d>\u001b[0m in \u001b[0;36m<module>\u001b[0;34m\u001b[0m\n\u001b[1;32m      1\u001b[0m built.fit(spec[:41125],onehot_labels[:41125], validation_data = (spec[41125:], onehot_labels[41125:]), epochs = 1\\\n\u001b[0;32m----> 2\u001b[0;31m          ,batch_size = 16*7)\n\u001b[0m",
            "\u001b[0;32m/anaconda2/envs/cs28/lib/python3.7/site-packages/keras/engine/training.py\u001b[0m in \u001b[0;36mfit\u001b[0;34m(self, x, y, batch_size, epochs, verbose, callbacks, validation_split, validation_data, shuffle, class_weight, sample_weight, initial_epoch, steps_per_epoch, validation_steps, **kwargs)\u001b[0m\n\u001b[1;32m   1037\u001b[0m                                         \u001b[0minitial_epoch\u001b[0m\u001b[0;34m=\u001b[0m\u001b[0minitial_epoch\u001b[0m\u001b[0;34m,\u001b[0m\u001b[0;34m\u001b[0m\u001b[0;34m\u001b[0m\u001b[0m\n\u001b[1;32m   1038\u001b[0m                                         \u001b[0msteps_per_epoch\u001b[0m\u001b[0;34m=\u001b[0m\u001b[0msteps_per_epoch\u001b[0m\u001b[0;34m,\u001b[0m\u001b[0;34m\u001b[0m\u001b[0;34m\u001b[0m\u001b[0m\n\u001b[0;32m-> 1039\u001b[0;31m                                         validation_steps=validation_steps)\n\u001b[0m\u001b[1;32m   1040\u001b[0m \u001b[0;34m\u001b[0m\u001b[0m\n\u001b[1;32m   1041\u001b[0m     def evaluate(self, x=None, y=None,\n",
            "\u001b[0;32m/anaconda2/envs/cs28/lib/python3.7/site-packages/keras/engine/training_arrays.py\u001b[0m in \u001b[0;36mfit_loop\u001b[0;34m(model, f, ins, out_labels, batch_size, epochs, verbose, callbacks, val_f, val_ins, shuffle, callback_metrics, initial_epoch, steps_per_epoch, validation_steps)\u001b[0m\n\u001b[1;32m    197\u001b[0m                     \u001b[0mins_batch\u001b[0m\u001b[0;34m[\u001b[0m\u001b[0mi\u001b[0m\u001b[0;34m]\u001b[0m \u001b[0;34m=\u001b[0m \u001b[0mins_batch\u001b[0m\u001b[0;34m[\u001b[0m\u001b[0mi\u001b[0m\u001b[0;34m]\u001b[0m\u001b[0;34m.\u001b[0m\u001b[0mtoarray\u001b[0m\u001b[0;34m(\u001b[0m\u001b[0;34m)\u001b[0m\u001b[0;34m\u001b[0m\u001b[0;34m\u001b[0m\u001b[0m\n\u001b[1;32m    198\u001b[0m \u001b[0;34m\u001b[0m\u001b[0m\n\u001b[0;32m--> 199\u001b[0;31m                 \u001b[0mouts\u001b[0m \u001b[0;34m=\u001b[0m \u001b[0mf\u001b[0m\u001b[0;34m(\u001b[0m\u001b[0mins_batch\u001b[0m\u001b[0;34m)\u001b[0m\u001b[0;34m\u001b[0m\u001b[0;34m\u001b[0m\u001b[0m\n\u001b[0m\u001b[1;32m    200\u001b[0m                 \u001b[0mouts\u001b[0m \u001b[0;34m=\u001b[0m \u001b[0mto_list\u001b[0m\u001b[0;34m(\u001b[0m\u001b[0mouts\u001b[0m\u001b[0;34m)\u001b[0m\u001b[0;34m\u001b[0m\u001b[0;34m\u001b[0m\u001b[0m\n\u001b[1;32m    201\u001b[0m                 \u001b[0;32mfor\u001b[0m \u001b[0ml\u001b[0m\u001b[0;34m,\u001b[0m \u001b[0mo\u001b[0m \u001b[0;32min\u001b[0m \u001b[0mzip\u001b[0m\u001b[0;34m(\u001b[0m\u001b[0mout_labels\u001b[0m\u001b[0;34m,\u001b[0m \u001b[0mouts\u001b[0m\u001b[0;34m)\u001b[0m\u001b[0;34m:\u001b[0m\u001b[0;34m\u001b[0m\u001b[0;34m\u001b[0m\u001b[0m\n",
            "\u001b[0;32m/anaconda2/envs/cs28/lib/python3.7/site-packages/keras/backend/tensorflow_backend.py\u001b[0m in \u001b[0;36m__call__\u001b[0;34m(self, inputs)\u001b[0m\n\u001b[1;32m   2713\u001b[0m                 \u001b[0;32mreturn\u001b[0m \u001b[0mself\u001b[0m\u001b[0;34m.\u001b[0m\u001b[0m_legacy_call\u001b[0m\u001b[0;34m(\u001b[0m\u001b[0minputs\u001b[0m\u001b[0;34m)\u001b[0m\u001b[0;34m\u001b[0m\u001b[0;34m\u001b[0m\u001b[0m\n\u001b[1;32m   2714\u001b[0m \u001b[0;34m\u001b[0m\u001b[0m\n\u001b[0;32m-> 2715\u001b[0;31m             \u001b[0;32mreturn\u001b[0m \u001b[0mself\u001b[0m\u001b[0;34m.\u001b[0m\u001b[0m_call\u001b[0m\u001b[0;34m(\u001b[0m\u001b[0minputs\u001b[0m\u001b[0;34m)\u001b[0m\u001b[0;34m\u001b[0m\u001b[0;34m\u001b[0m\u001b[0m\n\u001b[0m\u001b[1;32m   2716\u001b[0m         \u001b[0;32melse\u001b[0m\u001b[0;34m:\u001b[0m\u001b[0;34m\u001b[0m\u001b[0;34m\u001b[0m\u001b[0m\n\u001b[1;32m   2717\u001b[0m             \u001b[0;32mif\u001b[0m \u001b[0mpy_any\u001b[0m\u001b[0;34m(\u001b[0m\u001b[0mis_tensor\u001b[0m\u001b[0;34m(\u001b[0m\u001b[0mx\u001b[0m\u001b[0;34m)\u001b[0m \u001b[0;32mfor\u001b[0m \u001b[0mx\u001b[0m \u001b[0;32min\u001b[0m \u001b[0minputs\u001b[0m\u001b[0;34m)\u001b[0m\u001b[0;34m:\u001b[0m\u001b[0;34m\u001b[0m\u001b[0;34m\u001b[0m\u001b[0m\n",
            "\u001b[0;32m/anaconda2/envs/cs28/lib/python3.7/site-packages/keras/backend/tensorflow_backend.py\u001b[0m in \u001b[0;36m_call\u001b[0;34m(self, inputs)\u001b[0m\n\u001b[1;32m   2673\u001b[0m             \u001b[0mfetched\u001b[0m \u001b[0;34m=\u001b[0m \u001b[0mself\u001b[0m\u001b[0;34m.\u001b[0m\u001b[0m_callable_fn\u001b[0m\u001b[0;34m(\u001b[0m\u001b[0;34m*\u001b[0m\u001b[0marray_vals\u001b[0m\u001b[0;34m,\u001b[0m \u001b[0mrun_metadata\u001b[0m\u001b[0;34m=\u001b[0m\u001b[0mself\u001b[0m\u001b[0;34m.\u001b[0m\u001b[0mrun_metadata\u001b[0m\u001b[0;34m)\u001b[0m\u001b[0;34m\u001b[0m\u001b[0;34m\u001b[0m\u001b[0m\n\u001b[1;32m   2674\u001b[0m         \u001b[0;32melse\u001b[0m\u001b[0;34m:\u001b[0m\u001b[0;34m\u001b[0m\u001b[0;34m\u001b[0m\u001b[0m\n\u001b[0;32m-> 2675\u001b[0;31m             \u001b[0mfetched\u001b[0m \u001b[0;34m=\u001b[0m \u001b[0mself\u001b[0m\u001b[0;34m.\u001b[0m\u001b[0m_callable_fn\u001b[0m\u001b[0;34m(\u001b[0m\u001b[0;34m*\u001b[0m\u001b[0marray_vals\u001b[0m\u001b[0;34m)\u001b[0m\u001b[0;34m\u001b[0m\u001b[0;34m\u001b[0m\u001b[0m\n\u001b[0m\u001b[1;32m   2676\u001b[0m         \u001b[0;32mreturn\u001b[0m \u001b[0mfetched\u001b[0m\u001b[0;34m[\u001b[0m\u001b[0;34m:\u001b[0m\u001b[0mlen\u001b[0m\u001b[0;34m(\u001b[0m\u001b[0mself\u001b[0m\u001b[0;34m.\u001b[0m\u001b[0moutputs\u001b[0m\u001b[0;34m)\u001b[0m\u001b[0;34m]\u001b[0m\u001b[0;34m\u001b[0m\u001b[0;34m\u001b[0m\u001b[0m\n\u001b[1;32m   2677\u001b[0m \u001b[0;34m\u001b[0m\u001b[0m\n",
            "\u001b[0;32m/anaconda2/envs/cs28/lib/python3.7/site-packages/tensorflow/python/client/session.py\u001b[0m in \u001b[0;36m__call__\u001b[0;34m(self, *args, **kwargs)\u001b[0m\n\u001b[1;32m   1437\u001b[0m           ret = tf_session.TF_SessionRunCallable(\n\u001b[1;32m   1438\u001b[0m               \u001b[0mself\u001b[0m\u001b[0;34m.\u001b[0m\u001b[0m_session\u001b[0m\u001b[0;34m.\u001b[0m\u001b[0m_session\u001b[0m\u001b[0;34m,\u001b[0m \u001b[0mself\u001b[0m\u001b[0;34m.\u001b[0m\u001b[0m_handle\u001b[0m\u001b[0;34m,\u001b[0m \u001b[0margs\u001b[0m\u001b[0;34m,\u001b[0m \u001b[0mstatus\u001b[0m\u001b[0;34m,\u001b[0m\u001b[0;34m\u001b[0m\u001b[0;34m\u001b[0m\u001b[0m\n\u001b[0;32m-> 1439\u001b[0;31m               run_metadata_ptr)\n\u001b[0m\u001b[1;32m   1440\u001b[0m         \u001b[0;32mif\u001b[0m \u001b[0mrun_metadata\u001b[0m\u001b[0;34m:\u001b[0m\u001b[0;34m\u001b[0m\u001b[0;34m\u001b[0m\u001b[0m\n\u001b[1;32m   1441\u001b[0m           \u001b[0mproto_data\u001b[0m \u001b[0;34m=\u001b[0m \u001b[0mtf_session\u001b[0m\u001b[0;34m.\u001b[0m\u001b[0mTF_GetBuffer\u001b[0m\u001b[0;34m(\u001b[0m\u001b[0mrun_metadata_ptr\u001b[0m\u001b[0;34m)\u001b[0m\u001b[0;34m\u001b[0m\u001b[0;34m\u001b[0m\u001b[0m\n",
            "\u001b[0;31mKeyboardInterrupt\u001b[0m: "
          ]
        }
      ]
    },
    {
      "cell_type": "markdown",
      "metadata": {
        "id": "xJGbtDfIVxmf",
        "colab_type": "text"
      },
      "source": [
        "### Fitting Data in CNN-BiLSTM Model"
      ]
    },
    {
      "cell_type": "code",
      "metadata": {
        "scrolled": true,
        "id": "5JZU_XelVxmf",
        "colab_type": "code",
        "outputId": "e9ef4005-f772-4e49-ad11-94471eafea3b",
        "colab": {}
      },
      "source": [
        "K = 7\n",
        "num_classes = len(np.unique(argmax_labels))\n",
        "\n",
        "tf.reset_default_graph()\n",
        "\n",
        "cnn_config = {'filter_config': {'filter_size': [4, 4],\n",
        "                                'num_filter': [5, 10],\n",
        "                                'pool_size': [4, 4],\n",
        "                                'pool_stride': [2, 2]\n",
        "                                },\n",
        "              'regularization': 0.01,\n",
        "              'cnn_dropout': 0.8,\n",
        "              'fc_regularization': 0.01}\n",
        "\n",
        "bilstm_config = {'input_dim': 64,\n",
        "                 'output_dims': [32, 16, num_classes],## 6 being the num_of_classes TODO: what could be a better choice of size \n",
        "                 'sequence_len': K,\n",
        "                 'lstm_dropout': 0.8} \n",
        "\n",
        "train_config = {'grad_clipping': False}\n",
        "model = CNN_biLSTM_Model(cnn_config, bilstm_config, train_config)\n",
        "model.build()\n",
        "\n",
        "\n",
        "batch_size = 8\n",
        "epoch = 1\n",
        "\n",
        "model.train(spec[:2000], argmax_labels[:2000] , epoch, batch_size, learning_rate = 5e-4, model_name = 'test')\n"
      ],
      "execution_count": 0,
      "outputs": [
        {
          "output_type": "stream",
          "text": [
            "##### Tensor(\"fc/Shape:0\", shape=(2,), dtype=int32)\n",
            "##### loss after reduce mean: Tensor(\"Mean:0\", shape=(), dtype=float32)\n",
            "num_batch  250\n",
            "Training loss at epoch 0 batch 0: 3.090580\n",
            "Training loss at epoch 0 batch 5: 3.087629\n",
            "Training loss at epoch 0 batch 10: 3.087631\n",
            "Training loss at epoch 0 batch 15: 3.090193\n",
            "Training loss at epoch 0 batch 20: 3.087160\n",
            "Training loss at epoch 0 batch 25: 3.086078\n",
            "Training loss at epoch 0 batch 30: 3.083530\n",
            "Training loss at epoch 0 batch 35: 3.080720\n",
            "Training loss at epoch 0 batch 40: 3.083870\n",
            "Training loss at epoch 0 batch 45: 3.086091\n",
            "Training loss at epoch 0 batch 50: 3.077889\n",
            "Training loss at epoch 0 batch 55: 3.074372\n",
            "Training loss at epoch 0 batch 60: 3.075760\n",
            "Training loss at epoch 0 batch 65: 3.070809\n",
            "Training loss at epoch 0 batch 70: 3.079123\n",
            "Training loss at epoch 0 batch 75: 3.073577\n",
            "Training loss at epoch 0 batch 80: 3.065514\n",
            "Training loss at epoch 0 batch 85: 3.067707\n",
            "Training loss at epoch 0 batch 90: 3.061091\n",
            "Training loss at epoch 0 batch 95: 3.071172\n",
            "Training loss at epoch 0 batch 100: 3.061404\n",
            "Training loss at epoch 0 batch 105: 3.057379\n",
            "Training loss at epoch 0 batch 110: 3.061502\n",
            "Training loss at epoch 0 batch 115: 3.053991\n",
            "Training loss at epoch 0 batch 120: 3.065594\n",
            "Training loss at epoch 0 batch 125: 3.053205\n",
            "Training loss at epoch 0 batch 130: 3.055478\n",
            "Training loss at epoch 0 batch 135: 3.052477\n",
            "Training loss at epoch 0 batch 140: 3.054262\n",
            "Training loss at epoch 0 batch 145: 3.059269\n",
            "Training loss at epoch 0 batch 150: 3.053124\n",
            "Training loss at epoch 0 batch 155: 3.054249\n",
            "Training loss at epoch 0 batch 160: 3.060803\n",
            "Training loss at epoch 0 batch 165: 3.065818\n",
            "Training loss at epoch 0 batch 170: 3.054554\n",
            "Training loss at epoch 0 batch 175: 3.031697\n",
            "Training loss at epoch 0 batch 180: 3.035171\n",
            "Training loss at epoch 0 batch 185: 3.039168\n",
            "Training loss at epoch 0 batch 190: 3.039326\n",
            "Training loss at epoch 0 batch 195: 3.033238\n",
            "Training loss at epoch 0 batch 200: 3.032904\n",
            "Training loss at epoch 0 batch 205: 3.038281\n",
            "Training loss at epoch 0 batch 210: 3.051895\n",
            "Training loss at epoch 0 batch 215: 3.041898\n",
            "Training loss at epoch 0 batch 220: 3.054037\n",
            "Training loss at epoch 0 batch 225: 3.039751\n",
            "Training loss at epoch 0 batch 230: 3.044617\n",
            "Training loss at epoch 0 batch 235: 3.051474\n",
            "Training loss at epoch 0 batch 240: 3.058578\n",
            "Training loss at epoch 0 batch 245: 3.051400\n"
          ],
          "name": "stdout"
        }
      ]
    },
    {
      "cell_type": "code",
      "metadata": {
        "scrolled": true,
        "id": "cX5FOScvVxmj",
        "colab_type": "code",
        "outputId": "eaee0752-1700-4f83-8b7d-e83f9e16bff3",
        "colab": {}
      },
      "source": [
        "pred = model.predict(spec[1800:2000].reshape(1400,1,128,128), argmax_labels[1800:2000], 'test')"
      ],
      "execution_count": 0,
      "outputs": [
        {
          "output_type": "stream",
          "text": [
            "INFO:tensorflow:Restoring parameters from test\n"
          ],
          "name": "stdout"
        }
      ]
    },
    {
      "cell_type": "code",
      "metadata": {
        "id": "XWf4kbCIVxms",
        "colab_type": "code",
        "outputId": "0f822f98-d409-4f3c-b667-170bf107be73",
        "colab": {}
      },
      "source": [
        "np.unique(pred)"
      ],
      "execution_count": 0,
      "outputs": [
        {
          "output_type": "execute_result",
          "data": {
            "text/plain": [
              "array([ 0,  1,  5,  6,  9, 10])"
            ]
          },
          "metadata": {
            "tags": []
          },
          "execution_count": 44
        }
      ]
    },
    {
      "cell_type": "code",
      "metadata": {
        "id": "QEINOzr5Vxmw",
        "colab_type": "code",
        "outputId": "c02d3b44-60be-45e9-dbf8-714ca9fd338e",
        "colab": {}
      },
      "source": [
        "np.unique(argmax_labels[1800:2000])"
      ],
      "execution_count": 0,
      "outputs": [
        {
          "output_type": "execute_result",
          "data": {
            "text/plain": [
              "array([ 1,  2,  3,  4,  5,  6,  7,  8,  9, 10])"
            ]
          },
          "metadata": {
            "tags": []
          },
          "execution_count": 45
        }
      ]
    },
    {
      "cell_type": "code",
      "metadata": {
        "id": "rBQd1pj7Vxm0",
        "colab_type": "code",
        "outputId": "21b2281b-b262-4c35-fa5e-1e7f57b8b6f7",
        "colab": {}
      },
      "source": [
        "encoder.inverse_transform(np.unique(argmax_labels[1800:2000]))"
      ],
      "execution_count": 0,
      "outputs": [
        {
          "output_type": "execute_result",
          "data": {
            "text/plain": [
              "array(['chorus', 'instrumental', 'interlude', 'intro', 'misc',\n",
              "       'no_function', 'outro', 'silence', 'solo', 'verse'], dtype='<U12')"
            ]
          },
          "metadata": {
            "tags": []
          },
          "execution_count": 46
        }
      ]
    },
    {
      "cell_type": "code",
      "metadata": {
        "id": "44o2vmRvVxm5",
        "colab_type": "code",
        "outputId": "4088b570-a4be-4d64-a4da-e2afc9e092fd",
        "colab": {}
      },
      "source": [
        "from sklearn.metrics import f1_score\n",
        "\n",
        "gold = argmax_labels[2000:2200].flatten()\n",
        "pred = pred.flatten()\n",
        "\n",
        "f1_score(gold, pred, average = None)"
      ],
      "execution_count": 0,
      "outputs": [
        {
          "output_type": "execute_result",
          "data": {
            "text/plain": [
              "array([0.        , 0.00692042, 0.        , 0.        , 0.        ,\n",
              "       0.        , 0.05882353, 0.        , 0.        , 0.33483348,\n",
              "       0.25603865])"
            ]
          },
          "metadata": {
            "tags": []
          },
          "execution_count": 50
        }
      ]
    },
    {
      "cell_type": "code",
      "metadata": {
        "scrolled": true,
        "id": "QpRDWJXhVxm8",
        "colab_type": "code",
        "outputId": "3c46edee-c1e7-4577-be10-2d59c01250b0",
        "colab": {}
      },
      "source": [
        "plt.figure(figsize=(14, 8))\n",
        "librosa.display.specshow(librosa.power_to_db(spec[0][0], ref=np.max),\n",
        "                             y_axis='mel', fmax=8000,\n",
        "                             x_axis='time')\n",
        "plt.colorbar(format='%+2.0f dB')\n",
        "plt.title('Mel spectrogram')\n",
        "plt.tight_layout()"
      ],
      "execution_count": 0,
      "outputs": [
        {
          "output_type": "display_data",
          "data": {
            "image/png": "[encoded data removed]",
            "text/plain": [
              "<Figure size 1008x576 with 2 Axes>"
            ]
          },
          "metadata": {
            "tags": [],
            "needs_background": "light"
          }
        }
      ]
    },
    {
      "cell_type": "markdown",
      "metadata": {
        "id": "C5YOJGdrrFdH",
        "colab_type": "text"
      },
      "source": [
        "### Create class image\n"
      ]
    },
    {
      "cell_type": "code",
      "metadata": {
        "id": "iDOg9391rJJB",
        "colab_type": "code",
        "colab": {}
      },
      "source": [
        "random_frame = np.random.rand(1,128,128)"
      ],
      "execution_count": 0,
      "outputs": []
    },
    {
      "cell_type": "code",
      "metadata": {
        "id": "KRZML7iUrq1D",
        "colab_type": "code",
        "colab": {}
      },
      "source": [
        ""
      ],
      "execution_count": 0,
      "outputs": []
    }
  ]
}